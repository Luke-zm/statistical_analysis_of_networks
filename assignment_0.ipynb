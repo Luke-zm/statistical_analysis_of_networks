{
 "cells": [
  {
   "cell_type": "markdown",
   "metadata": {},
   "source": [
    "# Assignment 0 (aka Mock Assignment)\n",
    "\n",
    "This is a mock assignment to help you get familiar with the process of submitting Jupyter notebooks on Canvas. This file is both the problem set and the answer sheet. You should fill in the code cells with your answer code. You then need to upload this notebook to Canvas.\n",
    "\n",
    "Submission deadline via Canvas is **Wednesday, 11 September, 23.50pm**.\n",
    "\n",
    "The solution to each problem is to be stored in the dictionary variable `ans`: Your answer to Problem 1 should be store in `ans[1]`, the answer to Problem 2 should be stored in `ans[2]`, and so fort. \n",
    "\n",
    "Make sure the whole Jupyter Notebook runs without errors before submitting.\n",
    "\n"
   ]
  },
  {
   "cell_type": "code",
   "execution_count": 1,
   "metadata": {},
   "outputs": [],
   "source": [
    "# Import some libraries\n",
    "import networkx as nx\n",
    "import pandas as pd\n",
    "\n",
    "# Create the answer dictionary\n",
    "ans = dict()"
   ]
  },
  {
   "cell_type": "markdown",
   "metadata": {},
   "source": [
    "## Problem 1\n",
    "\n",
    "Download your data file from `https://nus-st5225.netlify.app/assignments/0/e1234567/data.csv` where you need to replace `e1234567` by your Canvas login ID. The file is a CSV file denoting the edge list of your graph. Save the file in the same directory as this notebook. Read in the edge list using the `networkx` library. How many edges are there in the graph? Save the answer in `ans[1]`."
   ]
  },
  {
   "cell_type": "code",
   "execution_count": 2,
   "metadata": {},
   "outputs": [
    {
     "name": "stdout",
     "output_type": "stream",
     "text": [
      "1001\n"
     ]
    }
   ],
   "source": [
    "# Read in the graph data \n",
    "G = nx.read_edgelist('data.csv', delimiter=',', nodetype=str)\n",
    "\n",
    "# Find the number of nodes and edges in the graph\n",
    "num_edges = G.number_of_edges()\n",
    "\n",
    "# Change the line below to store the your answer\n",
    "ans[1] = num_edges\n",
    "print(ans[1])"
   ]
  },
  {
   "cell_type": "markdown",
   "metadata": {},
   "source": [
    "## Problem 2\n",
    "\n",
    "Calculate the number of triangles in the graph. Save the answer in `ans[2]`."
   ]
  },
  {
   "cell_type": "code",
   "execution_count": 3,
   "metadata": {},
   "outputs": [
    {
     "name": "stdout",
     "output_type": "stream",
     "text": [
      "193.0\n"
     ]
    }
   ],
   "source": [
    "# Find the number of triangles in the graph\n",
    "triangles = sum(nx.triangles(G).values()) / 3\n",
    "\n",
    "\n",
    "# Change the line below to store the your answer\n",
    "ans[2] = triangles\n",
    "print(ans[2])"
   ]
  },
  {
   "cell_type": "markdown",
   "metadata": {},
   "source": [
    "## Problem 3\n",
    "\n",
    "Calculate the average degree of the graph. Save the answer in `ans[3]`."
   ]
  },
  {
   "cell_type": "code",
   "execution_count": 4,
   "metadata": {},
   "outputs": [
    {
     "data": {
      "text/plain": [
       "10.648936170212766"
      ]
     },
     "execution_count": 4,
     "metadata": {},
     "output_type": "execute_result"
    }
   ],
   "source": [
    "# Calculate the average degree of the graph\n",
    "# Find the degree of each node\n",
    "degrees = G.degree()\n",
    "# Find the average degree\n",
    "avg_degree = sum(dict(degrees).values()) / G.number_of_nodes()\n",
    "\n",
    "# Change the line below to store the your answer\n",
    "ans[3] = avg_degree\n",
    "ans[3]\n"
   ]
  },
  {
   "cell_type": "code",
   "execution_count": 5,
   "metadata": {},
   "outputs": [],
   "source": [
    "#### DO NOT CHANGE ANYTHING BELOW THIS LINE ####\n",
    "import json\n",
    "\n",
    "# Save the dictionary as JSON\n",
    "with open('solutions.json', 'w') as file:\n",
    "  json.dump(ans, file)"
   ]
  },
  {
   "cell_type": "code",
   "execution_count": null,
   "metadata": {},
   "outputs": [],
   "source": []
  },
  {
   "cell_type": "code",
   "execution_count": null,
   "metadata": {},
   "outputs": [],
   "source": []
  }
 ],
 "metadata": {
  "kernelspec": {
   "display_name": "ST5225",
   "language": "python",
   "name": "python3"
  },
  "language_info": {
   "codemirror_mode": {
    "name": "ipython",
    "version": 3
   },
   "file_extension": ".py",
   "mimetype": "text/x-python",
   "name": "python",
   "nbconvert_exporter": "python",
   "pygments_lexer": "ipython3",
   "version": "3.12.4"
  }
 },
 "nbformat": 4,
 "nbformat_minor": 2
}
