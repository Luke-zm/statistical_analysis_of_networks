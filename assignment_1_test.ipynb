{
 "cells": [
  {
   "cell_type": "markdown",
   "metadata": {},
   "source": [
    "# Assignment 1\n",
    "\n",
    "This is the first assignment of this course, covering the materials from Weeks 1 to 3. It will count 20% towards your final grade. The maximal number of points you can achieve is 20.\n",
    "\n",
    "This file is both the problem set and your answer sheet. You need to add your code to the respective code cells, and then upload this notebook to Canvas.\n",
    "\n",
    "Submission deadline via Canvas is **Sunday, 22 September, 23.59pm**. If you upload it a few days in advance, we will run the code and check if it works. If there are any issues, a message will be sent to you via Canvas.\n",
    "\n",
    "The solution to each problem is to be stored in the dictionary variable `ans`: Your answer to Problem 1 should be store in `ans[1]`, your answer to Problem 2 should be stored in `ans[2]`, and so forth. If you do the coding in a separate place and only store the results in this notebook, you will not get any partial points in case your answer is wrong, so I encourage you to add the full code to this notebook. Make sure the whole Jupyter Notebook runs without errors before submitting.\n",
    "\n",
    "Download your data file from `https://nus-st5225.netlify.app/assignments/1/e1234567/data.csv`, where you need to replace `e1234567` by your Canvas login ID. The file is a CSV file denoting the edge list of your graph. Save the file in the **same directory as this notebook** and **do not change the name of the file**!\n",
    "\n",
    "\n"
   ]
  },
  {
   "cell_type": "code",
   "execution_count": 2,
   "metadata": {},
   "outputs": [],
   "source": [
    "# Import some libraries\n",
    "import networkx as nx\n",
    "import pandas as pd\n",
    "\n",
    "# Create your answer dictionary\n",
    "ans = dict()"
   ]
  },
  {
   "cell_type": "markdown",
   "metadata": {},
   "source": [
    "## Problem 1 \n",
    "\n",
    "[**1 point**] Read in the edge list using the `networkx` library and create a graph $G$. **The file does not contain column headers!** The graph is meant to **undirected**, but it has **multi-edges** and **self-loops**, so make sure you create a **MultiGraph**. How many edges are there in the multi-graph? Save your answer in `ans[1]`. |"
   ]
  },
  {
   "cell_type": "code",
   "execution_count": 3,
   "metadata": {},
   "outputs": [
    {
     "name": "stdout",
     "output_type": "stream",
     "text": [
      "The number of edges in the multi-graph is 303.\n"
     ]
    }
   ],
   "source": [
    "#### ADD YOUR CODE HERE ####\n",
    "# Load the edge list from the uploaded file without headers\n",
    "data_path = 'data.csv'\n",
    "\n",
    "# Create a MultiGraph (undirected, allows multi-edges and self-loops)\n",
    "G = nx.read_edgelist(data_path, delimiter=',', create_using=nx.MultiGraph())\n",
    "\n",
    "# Count the number of edges in the MultiGraph\n",
    "num_edges = int(G.number_of_edges())\n",
    "\n",
    "# Change the line below to store the your answer\n",
    "ans[1] = num_edges\n",
    "print(f\"The number of edges in the multi-graph is {ans[1]}.\")"
   ]
  },
  {
   "cell_type": "markdown",
   "metadata": {},
   "source": [
    "## Problem 2\n",
    "\n",
    "[**1 point**] Calculate the average degree of the multi-graph $G$. Save your answer in `ans[2]`."
   ]
  },
  {
   "cell_type": "code",
   "execution_count": 4,
   "metadata": {},
   "outputs": [
    {
     "name": "stdout",
     "output_type": "stream",
     "text": [
      "The average degree of the multi-graph is 2.2781954887218046.\n"
     ]
    }
   ],
   "source": [
    "#### ADD YOUR CODE HERE ####\n",
    "# Calculate the average degree of the MultiGraph G\n",
    "total_degrees = sum(dict(G.degree()).values())\n",
    "num_nodes = G.number_of_nodes()\n",
    "average_degree = total_degrees / num_nodes\n",
    "\n",
    "# Change the line below to store the your answer\n",
    "ans[2] = average_degree\n",
    "print(f\"The average degree of the multi-graph is {ans[2]}.\")"
   ]
  },
  {
   "cell_type": "markdown",
   "metadata": {},
   "source": [
    "## Problem 3\n",
    "\n",
    "[**1 point**] Find the number of self-loops in $G$. Save your answer in `ans[3]`."
   ]
  },
  {
   "cell_type": "code",
   "execution_count": 5,
   "metadata": {},
   "outputs": [
    {
     "name": "stdout",
     "output_type": "stream",
     "text": [
      "The number of self-loops in the multi-graph is 2.\n"
     ]
    }
   ],
   "source": [
    "#### ADD YOUR CODE HERE ####\n",
    "# Find the number of self-loops in the MultiGraph G\n",
    "num_self_loops = int(nx.number_of_selfloops(G))\n",
    "\n",
    "# Change the line below to store the your answer\n",
    "ans[3] = num_self_loops\n",
    "print(f\"The number of self-loops in the multi-graph is {ans[3]}.\")"
   ]
  },
  {
   "cell_type": "markdown",
   "metadata": {},
   "source": [
    "## Problem 4\n",
    "\n",
    "[**1 point**] Calculate the number of triangles for the simple graph obtained from the multi-graph $G$. Save your answer in `ans[4]`."
   ]
  },
  {
   "cell_type": "code",
   "execution_count": 6,
   "metadata": {},
   "outputs": [
    {
     "name": "stdout",
     "output_type": "stream",
     "text": [
      "The number of triangles in the simple graph is 0.\n"
     ]
    }
   ],
   "source": [
    "#### ADD YOUR CODE HERE ####\n",
    "# Create a simple graph by converting the MultiGraph to a Graph (remove multi-edges and self-loops)\n",
    "simple_G = nx.Graph(G)\n",
    "\n",
    "# Calculate the number of triangles in the simple graph\n",
    "triangles = sum(nx.triangles(simple_G).values()) // 3  # each triangle is counted three times\n",
    "\n",
    "# Change the line below to store the your answer\n",
    "ans[4] = int(triangles)\n",
    "print(f\"The number of triangles in the simple graph is {ans[4]}.\")"
   ]
  },
  {
   "cell_type": "markdown",
   "metadata": {},
   "source": [
    "## Problem 5\n",
    "\n",
    "[**1 point**] Find the number of connected components in $G$. Save your answer in `ans[5]`."
   ]
  },
  {
   "cell_type": "code",
   "execution_count": 7,
   "metadata": {},
   "outputs": [
    {
     "name": "stdout",
     "output_type": "stream",
     "text": [
      "The number of connected components in the multi-graph is 15.\n"
     ]
    }
   ],
   "source": [
    "#### ADD YOUR CODE HERE ####\n",
    "# Find the number of connected components in the MultiGraph G\n",
    "num_connected_components = nx.number_connected_components(G)\n",
    "\n",
    "# Change the line below to store the your answer\n",
    "ans[5] = int(num_connected_components)\n",
    "print(f\"The number of connected components in the multi-graph is {ans[5]}.\")"
   ]
  },
  {
   "cell_type": "markdown",
   "metadata": {},
   "source": [
    "## Problem 6\n",
    "\n",
    "[**1 point**] Find the size of the largest connected component in $G$. Save your answer in `ans[6]`."
   ]
  },
  {
   "cell_type": "code",
   "execution_count": 8,
   "metadata": {},
   "outputs": [
    {
     "name": "stdout",
     "output_type": "stream",
     "text": [
      "The size of the largest connected component in the multi-graph is 211.\n"
     ]
    }
   ],
   "source": [
    "#### ADD YOUR CODE HERE ####\n",
    "# Find the largest connected component in the MultiGraph G\n",
    "largest_cc = max(nx.connected_components(G), key=len)\n",
    "largest_cc_size = len(largest_cc)\n",
    "\n",
    "# Change the line below to store the your answer\n",
    "ans[6] = int(largest_cc_size)\n",
    "print(f\"The size of the largest connected component in the multi-graph is {ans[6]}.\")"
   ]
  },
  {
   "cell_type": "markdown",
   "metadata": {},
   "source": [
    "## Problem 7\n",
    "\n",
    "[**2 point**] Extract the largest connected component from $G$, and convert that component into a **simple graph** called $C$. Calculate the betweenness centrality of all vertices in $C$, and save the value of the largest betweenness centrality to `ans[7]`."
   ]
  },
  {
   "cell_type": "code",
   "execution_count": 9,
   "metadata": {},
   "outputs": [
    {
     "name": "stdout",
     "output_type": "stream",
     "text": [
      "The betweenness centrality of the graph C is given by {'1': 0.018956482114376852, '148': 0.11329926547971657, '244': 0.009523809523809525, '2': 0.04341372912801483, '89': 0.05071347199166747, '7': 0.17737151319858085, '3': 0.018956482114376852, '77': 0.03768512189564821, '204': 0.009523809523809525, '4': 0.0, '92': 0.04915000343571771, '5': 0.0561185069455746, '171': 0.14448626978702178, '107': 0.0, '232': 0.009963237820380683, '108': 0.0, '85': 0.0, '155': 0.07506231306983183, '175': 0.008511104601330163, '128': 0.01827035120268204, '187': 0.06825396825396829, '57': 0.018956482114376852, '190': 0.06917148571283903, '8': 0.0, '11': 0.0, '74': 0.009523809523809525, '12': 0.0, '167': 0.11866826156299844, '14': 0.00761904761904762, '15': 0.006362117414748997, '132': 0.03804051976984306, '178': 0.044947108029814796, '17': 0.0, '18': 0.04402653459044436, '208': 0.06663493148455552, '226': 0.07070280318400621, '161': 0.08524659411877461, '20': 0.009523809523809525, '146': 0.039899098395339, '48': 0.0, '22': 0.011641278520977768, '125': 0.12054313272358384, '84': 0.0055085223882216355, '23': 0.00942301641549761, '65': 0.06812377263505084, '25': 0.007373954366435566, '87': 0.011038201564517345, '26': 0.020114789137345546, '249': 0.011714242315746071, '203': 0.0, '27': 0.0, '28': 0.0, '163': 0.03622470678861658, '29': 0.0, '60': 0.009523809523809525, '30': 0.009523809523809525, '181': 0.018956482114376852, '223': 0.0, '31': 0.0, '176': 0.06272727272727271, '32': 0.0, '214': 0.061205285942128033, '33': 0.023148021569074206, '49': 0.016073517126148712, '165': 0.03157818789397737, '38': 0.00529511006954616, '110': 0.01416398138202649, '40': 0.0, '255': 0.07173805726437303, '41': 0.005795549479760007, '196': 0.046278032744198144, '191': 0.008437978062038212, '42': 0.016701548242901623, '264': 0.08652500660019459, '43': 0.029836712994607727, '217': 0.08907365817140256, '44': 0.018596129573573195, '46': 0.04439797184158089, '242': 0.08717976398427524, '126': 0.005402033221582095, '47': 0.032694778070717925, '237': 0.06056517556517555, '227': 0.0368134079788215, '124': 0.07249275786869772, '55': 0.01627325890483786, '50': 0.0, '141': 0.009523809523809525, '51': 0.009523809523809525, '66': 0.02838915470494418, '136': 0.0, '52': 0.0, '53': 0.035475376753572235, '202': 0.0, '229': 0.0, '54': 0.04932175315633959, '102': 0.022067018194837754, '201': 0.06543801784403291, '139': 0.08486354775828454, '149': 0.0, '101': 0.011690590111642744, '58': 0.0071037984571819136, '111': 0.00991710878928924, '104': 0.012474367737525633, '59': 0.0, '159': 0.11656576506200562, '61': 0.08833723920190081, '180': 0.02912117957230738, '105': 0.009523809523809525, '63': 0.0, '123': 0.07465796525946904, '119': 0.0, '250': 0.05502272998513602, '239': 0.009523809523809525, '133': 0.05070132040056855, '183': 0.0, '67': 0.0, '68': 0.009973526890820128, '150': 0.007667762479792557, '70': 0.00424199025702785, '189': 0.03710271349369093, '71': 0.0, '73': 0.015389664637784942, '253': 0.059085701266152355, '75': 0.0, '76': 0.009987956905250138, '219': 0.029459254196096303, '130': 0.03930318219791905, '240': 0.0, '235': 0.046707678286625656, '78': 0.0, '236': 0.037556553721967256, '79': 0.0, '80': 0.006715652768284346, '209': 0.032705410712929504, '88': 0.0, '90': 0.01929716065054411, '211': 0.024873547505126457, '184': 0.0339269891901471, '192': 0.0, '188': 0.16756451012090096, '93': 0.0, '94': 0.0, '210': 0.016015471579381352, '96': 0.014763007808120591, '185': 0.03205204569866224, '97': 0.0, '98': 0.028198743612277442, '194': 0.0, '170': 0.02611778363658062, '251': 0.16472588397400428, '99': 0.0, '100': 0.08946240059022009, '144': 0.004400394926710714, '142': 0.0171800713905977, '103': 0.0, '221': 0.02253129215535231, '246': 0.020544868665169427, '197': 0.0, '106': 0.009523809523809525, '115': 0.0, '179': 0.018956482114376852, '143': 0.014475691392984633, '174': 0.007160759040458289, '256': 0.007157504149985355, '112': 0.0, '224': 0.009523809523809525, '118': 0.0, '122': 0.0, '129': 0.025009493430546054, '234': 0.028298017771701982, '140': 0.0, '127': 0.004731525784157363, '207': 0.002093871041239462, '243': 0.006668619600950425, '131': 0.006795017847649426, '200': 0.027316342805064602, '134': 0.0, '137': 0.0, '252': 0.03636631260691411, '172': 0.004027818463908688, '147': 0.0, '151': 0.0, '265': 0.06356186280998309, '156': 0.013009254738578049, '157': 0.0, '158': 0.0, '206': 0.0, '205': 0.05037648233136953, '160': 0.0, '162': 0.0, '228': 0.0, '215': 0.0, '241': 0.0, '177': 0.0630632497549791, '182': 0.008783755926613072, '198': 0.0, '261': 0.018956482114376852, '186': 0.0, '195': 0.0, '199': 0.0, '212': 0.019377230956178326, '213': 0.0, '216': 0.0, '218': 0.0, '257': 0.009523809523809525, '220': 0.009013713938525967, '263': 0.016578621879373763, '231': 0.0, '233': 0.009523809523809525, '259': 0.0, '247': 0.0}.\n",
      "The largest betweenness centrality value in the largest connected component is 0.17737151319858085.\n"
     ]
    }
   ],
   "source": [
    "#### ADD YOUR CODE HERE ####\n",
    "# Extract the largest connected component from the MultiGraph G\n",
    "largest_cc_subgraph = G.subgraph(largest_cc)\n",
    "\n",
    "# Convert the largest connected component into a simple graph\n",
    "C = nx.Graph(largest_cc_subgraph)  # removes parallel edges\n",
    "C.remove_edges_from(nx.selfloop_edges(C)) # removes self-loops\n",
    "\n",
    "# Calculate the betweenness centrality of all vertices in C\n",
    "betweenness_centrality = nx.betweenness_centrality(C)\n",
    "\n",
    "# Find the largest betweenness centrality value\n",
    "max_betweenness_centrality = max(betweenness_centrality.values())\n",
    "\n",
    "# Change the line below to store the your answer\n",
    "ans[7] = max_betweenness_centrality\n",
    "print(f\"The betweenness centrality of the graph C is given by {betweenness_centrality}.\")\n",
    "print(f\"The largest betweenness centrality value in the largest connected component is {ans[7]}.\")"
   ]
  },
  {
   "cell_type": "markdown",
   "metadata": {},
   "source": [
    "## Problem 8\n",
    "\n",
    "[**2 point**] Identify all vertices with largest betweeness centrality in $C$. Identify all vertices with largest degree in $C$. Save the intersection of these two sets in `ans[8]` as a Python list (not as a set, otherwise it can't be saved as JSON file). If the intersection is empty, your answer should be the empty list `[]`.\n"
   ]
  },
  {
   "cell_type": "code",
   "execution_count": 10,
   "metadata": {},
   "outputs": [
    {
     "name": "stdout",
     "output_type": "stream",
     "text": [
      "The list of vertices with the largest betweenness centrality in the largest connected component are ['7'].\n"
     ]
    }
   ],
   "source": [
    "#### ADD YOUR CODE HERE ####\n",
    "# Identify vertices with the largest betweenness centrality in C\n",
    "max_bc_nodes = [node for node, bc in betweenness_centrality.items() if bc == max_betweenness_centrality]\n",
    "\n",
    "# Identify vertices with the largest degree in C\n",
    "degree_dict = dict(C.degree())\n",
    "max_degree = max(degree_dict.values())\n",
    "max_degree_nodes = [node for node, degree in degree_dict.items() if degree == max_degree]\n",
    "\n",
    "# Find the intersection of the two sets (as a list)\n",
    "intersection = list(set(max_bc_nodes) & set(max_degree_nodes))\n",
    "intersection = [int(item) for item in intersection]\n",
    "\n",
    "# Change the line below to store the your answer\n",
    "ans[8] = intersection\n",
    "print(f\"The list of vertices with the largest betweenness centrality in the largest connected component are {max_bc_nodes}.\")"
   ]
  },
  {
   "cell_type": "markdown",
   "metadata": {},
   "source": [
    "## Problem 9\n",
    "\n",
    "[**1 point**] Calculate the average shortest path length in $C$. Find the exact value, not an approximation. Save your answer in `ans[9]`."
   ]
  },
  {
   "cell_type": "code",
   "execution_count": 11,
   "metadata": {},
   "outputs": [
    {
     "data": {
      "text/plain": [
       "<networkx.classes.graph.Graph at 0x7fd5b81f59d0>"
      ]
     },
     "execution_count": 11,
     "metadata": {},
     "output_type": "execute_result"
    }
   ],
   "source": [
    "C"
   ]
  },
  {
   "cell_type": "code",
   "execution_count": 19,
   "metadata": {},
   "outputs": [
    {
     "name": "stdout",
     "output_type": "stream",
     "text": [
      "The average shortest path length in the simple graph C is 6.059535093658316.\n",
      "6.059535093658316\n",
      "The average shortest path length in the simple graph C is 6.059535093658316.\n"
     ]
    }
   ],
   "source": [
    "#### ADD YOUR CODE HERE ####\n",
    "# Calculate the average shortest path length in the simple graph C\n",
    "average_shortest_path_length = nx.average_shortest_path_length(C)\n",
    "\n",
    "print(f\"The average shortest path length in the simple graph C is {average_shortest_path_length}.\")\n",
    "\n",
    "all_pairs_shortest_path_length = dict(nx.all_pairs_shortest_path_length(C))\n",
    "total_length = 0\n",
    "num_paths = 0\n",
    "for source, paths in all_pairs_shortest_path_length.items():\n",
    "    for target, length in paths.items():\n",
    "        if source != target:\n",
    "            total_length += length\n",
    "            num_paths += 1\n",
    "\n",
    "average_shortest_path_length = total_length / num_paths\n",
    "print (average_shortest_path_length)\n",
    "\n",
    "# Change the line below to store the your answer\n",
    "ans[9] = average_shortest_path_length\n",
    "print(f\"The average shortest path length in the simple graph C is {ans[9]}.\")"
   ]
  },
  {
   "cell_type": "markdown",
   "metadata": {},
   "source": [
    "## Problem 10\n",
    "\n",
    "[**2 points**] Use the function `simulate_epidemic` below to simulate an epidemic on the graph $C$. The function takes as arguments the graph on which to run the epidemic as well as the infection probability, and then returns a realisation of the infection tree. Run the epidemic for a 100 times with infection probability $p=0.8$, and estimate the proportion of times there is an epidemic outbreak. An outbreak is defined as more than 10% of the vertices being infected. Save the result in `ans[10]` (your answer should be a value between 0 and 1 since it's a proportion).\n",
    "\n"
   ]
  },
  {
   "cell_type": "code",
   "execution_count": 13,
   "metadata": {},
   "outputs": [
    {
     "name": "stdout",
     "output_type": "stream",
     "text": [
      "The proportion of times an outbreak occurred in the simulation is 0.81.\n"
     ]
    }
   ],
   "source": [
    "#### DO NOT MODIFY THE CODE BELOW ####\n",
    "import random\n",
    "random.seed(123) # This will ensure reproducibility; do not change\n",
    "\n",
    "def simulate_epidemic(G, p):\n",
    "  \"\"\"\n",
    "  Simulates the spread of a disease through a population represented by a graph G,\n",
    "  with each edge representing a possible transmission with probability p.\n",
    "  \n",
    "  Parameters:\n",
    "  G (networkx.Graph or networkx.MultiGraph): The graph representing the population.\n",
    "  p (float): The probability of infection transmission through an edge.\n",
    "  \n",
    "  Returns:\n",
    "  networkx.Graph: The infection tree representing the spread of the disease.\n",
    "  \"\"\"\n",
    "  # Set all nodes to 'susceptible'\n",
    "  for node in G.nodes():\n",
    "    G.nodes[node]['disease_status'] = 'susceptible'\n",
    "\n",
    "  # Create an empty graph for the infection tree\n",
    "  T = nx.Graph()\n",
    "\n",
    "  # Pick a random vertex and infect it\n",
    "  random_vertex = random.choice(sorted(list(G.nodes())))\n",
    "  T.add_node(random_vertex)\n",
    "  G.nodes[random_vertex]['disease_status'] = 'infected'\n",
    "\n",
    "  # Set of currently infected nodes\n",
    "  infected_set = set([random_vertex])\n",
    "\n",
    "  while True:\n",
    "    if not infected_set:\n",
    "      break\n",
    "    \n",
    "    # Pick a random infected vertex\n",
    "    infected_vertex = random.choice(sorted(list(infected_set)))\n",
    "    \n",
    "    # Get the edges connected to the infected vertex\n",
    "    edges = list(G.edges(infected_vertex))\n",
    "    \n",
    "    # Infect each neighbor via each edge with a probability p\n",
    "    for edge in edges:\n",
    "      neighbor = edge[1] if edge[0] == infected_vertex else edge[0]\n",
    "      if G.nodes[neighbor]['disease_status'] == 'susceptible' and random.random() < p:\n",
    "        G.nodes[neighbor]['disease_status'] = 'infected'\n",
    "        T.add_edge(infected_vertex, neighbor)\n",
    "        infected_set.add(neighbor)\n",
    "    \n",
    "    # Set the current infected vertex to recovered\n",
    "    G.nodes[infected_vertex]['disease_status'] = 'recovered'\n",
    "    infected_set.remove(infected_vertex)\n",
    "  \n",
    "  return T \n",
    "#### END OF PART THAT SHOULD NOT BE MODIFIED ####\n",
    "\n",
    "#### ADD YOUR CODE HERE ####\n",
    "# Number of simulations\n",
    "num_simulations = 100\n",
    "infection_probability = 0.8\n",
    "\n",
    "# Total nodes in the graph C\n",
    "total_nodes_C = C.number_of_nodes()\n",
    "\n",
    "# Run the simulation 100 times and count the number of outbreaks\n",
    "outbreak_count = 0\n",
    "for i in range(num_simulations):\n",
    "    infection_tree = simulate_epidemic(C, infection_probability)\n",
    "    # Check if an outbreak occurred (more than 10% of nodes infected)\n",
    "    if (len(infection_tree.nodes()) > 0.1 * total_nodes_C):\n",
    "        outbreak_count += 1\n",
    "\n",
    "# Calculate the proportion of times an outbreak occurred\n",
    "outbreak_proportion = outbreak_count / num_simulations\n",
    "\n",
    "# Change the line below to store the your answer\n",
    "ans[10] = outbreak_proportion\n",
    "print(f\"The proportion of times an outbreak occurred in the simulation is {ans[10]}.\")"
   ]
  },
  {
   "cell_type": "markdown",
   "metadata": {},
   "source": [
    "## Problems 11/12/13\n",
    "\n",
    "[**1 point each / 3 points total**] Let's return to the original multi-graph $G$. We would like to test whether $G$ is compatible with the configuration model. We use the number of components as test statistic. Generate the configuration model with the same degree sequence as $G$ for a 100 times, and store the number of components for each realization in a list. Calculate mean and standard deviation of the number of components from the simulation. Save the mean in `ans[11]` and the standard deviation in `ans[12]`. If the number of components of $G$ is within 2 standard deviations of the simulated number of components, save `True` in `ans[13]`, otherwise save `False`."
   ]
  },
  {
   "cell_type": "code",
   "execution_count": 14,
   "metadata": {},
   "outputs": [
    {
     "name": "stdout",
     "output_type": "stream",
     "text": [
      "The mean number of components in the configuration model simulations is 14.23.\n",
      "The standard deviation of the number of components in the configuration model simulations is 2.9354897376758107.\n",
      "Is the number of components in G within 2 standard deviations of the mean of the configuration model simulations? True.\n"
     ]
    }
   ],
   "source": [
    "#### DO NOT MODIFY THE CODE BELOW ####\n",
    "import random\n",
    "random.seed(123) # This will ensure reproducibility; do not change\n",
    "import numpy as np\n",
    "np.random.seed(123) # This will ensure reproducibility; do not change\n",
    "\n",
    "#### ADD YOUR CODE HERE ####\n",
    "# Number of simulations for the configuration model\n",
    "num_simulations = 100\n",
    "\n",
    "# Degree sequence of the original graph G\n",
    "degree_sequence = [d for n, d in G.degree()]\n",
    "\n",
    "# List to store the number of components for each configuration model realization\n",
    "num_components_simulations = []\n",
    "\n",
    "# Run the configuration model simulation 100 times\n",
    "for i in range(num_simulations):\n",
    "    # Generate a random graph based on the configuration model\n",
    "    config_model = nx.configuration_model(degree_sequence)\n",
    "\n",
    "    # Calculate the number of components in the generated graph\n",
    "    num_components_simulations.append(nx.number_connected_components(config_model))\n",
    "\n",
    "# Calculate the mean and standard deviation of the number of components from the simulations\n",
    "mean_num_components = np.mean(num_components_simulations)\n",
    "std_num_components = np.std(num_components_simulations)\n",
    "\n",
    "# Check if the number of components in G is within 2 standard deviations of the simulated mean\n",
    "num_components_G = nx.number_connected_components(G)\n",
    "within_2_std_devs = abs(num_components_G - mean_num_components) <= 2 * std_num_components\n",
    "\n",
    "# Change the line below to store the your answer\n",
    "ans[11] = mean_num_components\n",
    "ans[12] = std_num_components\n",
    "ans[13] = bool(within_2_std_devs)\n",
    "print(f\"The mean number of components in the configuration model simulations is {ans[11]}.\")\n",
    "print(f\"The standard deviation of the number of components in the configuration model simulations is {ans[12]}.\")\n",
    "print(f\"Is the number of components in G within 2 standard deviations of the mean of the configuration model simulations? {ans[13]}.\")"
   ]
  },
  {
   "cell_type": "markdown",
   "metadata": {},
   "source": [
    "## Problem 14\n",
    "\n",
    "[**1 point**] Calculate the degree correlation of the graph $G$. Save your answer in `ans[14]`. _Hint: Create a pandas dataframe with columns `degree1` and `degree2`, where each edge is a row, and then calculate the correlation between the two columns._"
   ]
  },
  {
   "cell_type": "code",
   "execution_count": 15,
   "metadata": {},
   "outputs": [
    {
     "name": "stdout",
     "output_type": "stream",
     "text": [
      "The correlation between the degrees of the vertices at the ends of an edge is 0.0200684539048326.\n"
     ]
    }
   ],
   "source": [
    "#### ADD YOUR CODE HERE ####\n",
    "# Create a pandas dataframe with columns 'degree1' and 'degree2'\n",
    "edges = list(G.edges())\n",
    "degree1 = [G.degree(u) for u, v in edges]\n",
    "degree2 = [G.degree(v) for u, v in edges]\n",
    "\n",
    "degree_df = pd.DataFrame({'degree1': degree1, 'degree2': degree2})\n",
    "\n",
    "# Calculate the correlation between the two columns\n",
    "degree_correlation = degree_df['degree1'].corr(degree_df['degree2'])\n",
    "\n",
    "# Change the line below to store the your answer\n",
    "ans[14] = degree_correlation\n",
    "print(f\"The correlation between the degrees of the vertices at the ends of an edge is {ans[14]}.\")\n"
   ]
  },
  {
   "cell_type": "markdown",
   "metadata": {},
   "source": [
    "## Problems 15/16/17\n",
    "\n",
    "[**1 point each / 3 points total**] We would like to test whether $G$ is compatible with the configuration model. We use the degree correlation as test statistic. Generate the configuration model with the same degree sequence as $G$ for a 100 times, and store the degree correlation for each realization in a list. Calculate mean and standard deviation of the number of components from the simulation. Save the mean in `ans[15]` and the standard deviation in `ans[16]`. If the number of components of $G$ is within 2 standard deviations of the simulated number of components, save `True` in `ans[17]`, otherwise save `False`."
   ]
  },
  {
   "cell_type": "code",
   "execution_count": 16,
   "metadata": {},
   "outputs": [
    {
     "name": "stdout",
     "output_type": "stream",
     "text": [
      "The mean degree correlation in the configuration model simulations is 0.05753846151132316.\n",
      "The standard deviation of the degree correlation in the configuration model simulations is 0.062211531537038456.\n",
      "Is the degree correlation in G within 2 standard deviations of the mean of the configuration model simulations? True.\n"
     ]
    }
   ],
   "source": [
    "#### DO NOT MODIFY THE CODE BELOW ####\n",
    "import random\n",
    "random.seed(123) # This will ensure reproducibility; do not change\n",
    "import numpy as np\n",
    "np.random.seed(123) # This will ensure reproducibility; do not change\n",
    "\n",
    "#### ADD YOUR CODE HERE ####\n",
    "# List to store the degree correlation for each configuration model realization\n",
    "degree_correlation_simulations = []\n",
    "\n",
    "# Run the configuration model simulation 100 times\n",
    "for i in range(num_simulations):\n",
    "    # Generate a random graph based on the configuration model\n",
    "    config_model = nx.configuration_model(degree_sequence)\n",
    "    \n",
    "    # Create a dataframe with degree pairs for each edge in the configuration model\n",
    "    edges_config = list(config_model.edges())\n",
    "    degree1_config = [config_model.degree(u) for u, v in edges_config]\n",
    "    degree2_config = [config_model.degree(v) for u, v in edges_config]\n",
    "    degree_df_config = pd.DataFrame({'degree1': degree1_config, 'degree2': degree2_config})\n",
    "    \n",
    "    # Calculate the degree correlation for the configuration model\n",
    "    degree_correlation_simulations.append(degree_df_config['degree1'].corr(degree_df_config['degree2']))\n",
    "\n",
    "# Calculate the mean and standard deviation of the degree correlation from the simulations\n",
    "mean_degree_correlation = np.mean(degree_correlation_simulations)\n",
    "std_degree_correlation = np.std(degree_correlation_simulations)\n",
    "\n",
    "# Check if the degree correlation of G is within 2 standard deviations of the simulated mean\n",
    "within_2_std_devs_degree = abs(degree_correlation - mean_degree_correlation) <= 2 * std_degree_correlation\n",
    "\n",
    "# Change the line below to store the your answer\n",
    "ans[15] = mean_degree_correlation\n",
    "ans[16] = std_degree_correlation\n",
    "ans[17] = bool(within_2_std_devs_degree)\n",
    "print(f\"The mean degree correlation in the configuration model simulations is {ans[15]}.\")\n",
    "print(f\"The standard deviation of the degree correlation in the configuration model simulations is {ans[16]}.\")\n",
    "print(f\"Is the degree correlation in G within 2 standard deviations of the mean of the configuration model simulations? {ans[17]}.\")"
   ]
  },
  {
   "cell_type": "code",
   "execution_count": 17,
   "metadata": {},
   "outputs": [
    {
     "name": "stdout",
     "output_type": "stream",
     "text": [
      "Q1: 303\n",
      "Q2: 2.2781954887218046\n",
      "Q3: 2\n",
      "Q4: 0\n",
      "Q5: 15\n",
      "Q6: 211\n",
      "Q7: 0.17737151319858085\n",
      "Q8: [7]\n",
      "Q9: 6.030816917858988\n",
      "Q10: 0.81\n",
      "Q11: 14.23\n",
      "Q12: 2.9354897376758107\n",
      "Q13: True\n",
      "Q14: 0.0200684539048326\n",
      "Q15: 0.05753846151132316\n",
      "Q16: 0.062211531537038456\n",
      "Q17: True\n"
     ]
    }
   ],
   "source": [
    "# Print the entire dictionary\n",
    "for key, value in ans.items():\n",
    "    print(f\"Q{key}: {value}\")"
   ]
  },
  {
   "cell_type": "code",
   "execution_count": 18,
   "metadata": {},
   "outputs": [],
   "source": [
    "#### DO NOT CHANGE ANYTHING BELOW THIS LINE ####\n",
    "import json\n",
    "\n",
    "# Save the dictionary as JSON\n",
    "with open('solutions.json', 'w') as file:\n",
    "  json.dump(ans, file)"
   ]
  },
  {
   "cell_type": "code",
   "execution_count": null,
   "metadata": {},
   "outputs": [],
   "source": []
  }
 ],
 "metadata": {
  "kernelspec": {
   "display_name": "ST5225",
   "language": "python",
   "name": "python3"
  },
  "language_info": {
   "codemirror_mode": {
    "name": "ipython",
    "version": 3
   },
   "file_extension": ".py",
   "mimetype": "text/x-python",
   "name": "python",
   "nbconvert_exporter": "python",
   "pygments_lexer": "ipython3",
   "version": "3.12.4"
  }
 },
 "nbformat": 4,
 "nbformat_minor": 2
}
