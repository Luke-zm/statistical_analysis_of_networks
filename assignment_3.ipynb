{
 "cells": [
  {
   "cell_type": "markdown",
   "metadata": {},
   "source": [
    "# Assignment 3\n",
    "\n",
    "This is the third assignment of this course, covering the materials from Weeks 7 to 9. It will count 10% towards your final grade (the other 10% will be a Multiple-Response Quiz, which will be available on Canvas). The maximum number of points you can achieve is 10.\n",
    "\n",
    "This file is both the problem set and your answer sheet. You need to add your code to the respective code cells, and then upload this notebook to Canvas.\n",
    "\n",
    "Submission deadline via Canvas is **Thursday, 14 November 2024, 23.59**. If you upload it a few days in advance, we will run the code and check if it works. If there are any issues, a message will be sent to you via Canvas.\n",
    "\n",
    "The solution to each problem is to be stored in the dictionary variable `ans`: Your answer to Problem 1 should be stored in `ans_1`, your answer to Problem 2 should be stored in `ans_2`, and so forth. If you do the coding in a separate place and only store the results in this notebook, you will not get any partial points in case your answer is wrong, so you need to add the full code to this notebook.\n",
    "\n",
    "For each problem, the number of points you can achieve is indicated in the question. Points are only given if the code runs error-free and the output is correct. Partial points may be given depending on the quality of the answer. It is also indicated whether you should use Python or R to solve the problem.\n",
    "\n",
    "**Ensure your notebook runs without errors by pressing \"Run All\" before submitting**"
   ]
  },
  {
   "cell_type": "code",
   "execution_count": 1,
   "metadata": {},
   "outputs": [],
   "source": [
    "# Import some libraries\n",
    "import math\n",
    "import random\n",
    "import json\n",
    "\n",
    "try:\n",
    "  import networkx as nx\n",
    "  import pandas as pd\n",
    "  import numpy as np\n",
    "  import powerlaw\n",
    "except:\n",
    "  %pip install networkx\n",
    "  %pip install pandas\n",
    "  %pip install numpy\n",
    "  %pip install powerlaw\n",
    "\n",
    "\n",
    "# Create your answer dictionary\n",
    "ans = dict()\n",
    "\n",
    "# Load the rpy2 extension\n",
    "try:\n",
    "  %load_ext rpy2.ipython\n",
    "except:\n",
    "  %pip install rpy2"
   ]
  },
  {
   "cell_type": "code",
   "execution_count": 2,
   "metadata": {},
   "outputs": [
    {
     "data": {
      "text/plain": [
       "\n",
       "Attaching package: ‘igraph’\n",
       "\n",
       "The following objects are masked from ‘package:stats’:\n",
       "\n",
       "    decompose, spectrum\n",
       "\n",
       "The following object is masked from ‘package:base’:\n",
       "\n",
       "    union\n",
       "\n",
       "Loading required package: network\n",
       "\n",
       "‘network’ 1.18.2 (2023-12-04), part of the Statnet Project\n",
       "* ‘news(package=\"network\")’ for changes since last version\n",
       "* ‘citation(\"network\")’ for citation information\n",
       "* ‘https://statnet.org’ for help, support, and other information\n",
       "\n",
       "\n",
       "Attaching package: ‘network’\n",
       "\n",
       "The following objects are masked from ‘package:igraph’:\n",
       "\n",
       "    %c%, %s%, add.edges, add.vertices, delete.edges, delete.vertices,\n",
       "    get.edge.attribute, get.edges, get.vertex.attribute, is.bipartite,\n",
       "    is.directed, list.edge.attributes, list.vertex.attributes,\n",
       "    set.edge.attribute, set.vertex.attribute\n",
       "\n",
       "\n",
       "‘ergm’ 4.7.1 (2024-10-07), part of the Statnet Project\n",
       "* ‘news(package=\"ergm\")’ for changes since last version\n",
       "* ‘citation(\"ergm\")’ for citation information\n",
       "* ‘https://statnet.org’ for help, support, and other information\n",
       "\n",
       "‘ergm’ 4 is a major update that introduces some backwards-incompatible\n",
       "changes. Please type ‘news(package=\"ergm\")’ for a list of major\n",
       "changes.\n",
       "\n",
       "\n",
       "‘latentnet’ 2.11.0 (2024-02-19), part of the Statnet Project\n",
       "* ‘news(package=\"latentnet\")’ for changes since last version\n",
       "* ‘citation(\"latentnet\")’ for citation information\n",
       "* ‘https://statnet.org’ for help, support, and other information\n",
       "NOTE: BIC calculation prior to latentnet 2.7.0 had a bug in the calculation of the effective number of parameters. See help(summary.ergmm) for details.\n",
       "NOTE: Prior to version 2.8.0, handling of fixed effects for directed networks had a bug: the covariate matrix was transposed.\n",
       "In addition: Warning message:\n",
       "In (function (package, help, pos = 2, lib.loc = NULL, character.only = FALSE,  :\n",
       "  library ‘/usr/lib/R/site-library’ contains no packages\n"
      ]
     },
     "metadata": {},
     "output_type": "display_data"
    }
   ],
   "source": [
    "%%R\n",
    "# Import the necessary R libraries\n",
    "options(repos=\"https://cloud.r-project.org\") # Choose a CRAN mirror to prevent user interaction\n",
    "packages <- c(\"igraph\", \"ergm\", \"intergraph\", \"network\", \"latentnet\")\n",
    "install.packages(setdiff(packages, rownames(installed.packages())))  \n",
    "\n",
    "library(igraph)\n",
    "library(intergraph)\n",
    "library(ergm)\n",
    "library(network)\n",
    "library(latentnet)"
   ]
  },
  {
   "cell_type": "markdown",
   "metadata": {},
   "source": [
    "## Problem 1\n",
    "\n",
    "Download the file of your second graph from `https://nus-st5225.netlify.app/assessments/3/e1234567/graph.graphml`, where you need to replace `e1234567` by your Canvas login ID. The file is a GraphML file containing the graph. Save the file in the **same directory as this notebook** and **do not change the name of the file**! The code to load the graph as networkx graph is given below. The graph is stored in the variable `G`. Do not change the code. \n",
    "\n",
    "The graph is a social network where the nodes represent people and the edges represent friendships. Each node has an attribute _type_, which is either \"child\" or \"adult\" and an attribute _income_, which is the household income of the person (in $100,000). \n",
    "\n",
    "[**1 point**, **R**] Use the `ergm` package in R to fit an Exponential Random Graph Model (ERGM) to the graph `G` with only `edges` term. Store the estimated coefficient for the edge term in `ans_1`. _The answer will be exported to Python and stored in `ans[1]` automatically._ "
   ]
  },
  {
   "cell_type": "code",
   "execution_count": 3,
   "metadata": {},
   "outputs": [],
   "source": [
    "%%bash \n",
    "## If you haven't downloaded the file yet, you can run the following command, but replace e1234567 by your Canvas login ID\n",
    "if [ ! -f graph.graphml ]; then\n",
    "  ## Replace e1234567 by your Canvas login ID\n",
    "  curl https://nus-st5225.netlify.app/assessments/3/e0309209/graph.graphml -o graph.graphml\n",
    "fi"
   ]
  },
  {
   "cell_type": "code",
   "execution_count": 4,
   "metadata": {},
   "outputs": [
    {
     "name": "stdout",
     "output_type": "stream",
     "text": [
      "  edges \n",
      "-1.8295 \n"
     ]
    },
    {
     "data": {
      "text/plain": [
       "Starting maximum pseudolikelihood estimation (MPLE):\n",
       "Obtaining the responsible dyads.\n",
       "Evaluating the predictor and response matrix.\n",
       "Maximizing the pseudolikelihood.\n",
       "Finished MPLE.\n",
       "Evaluating log-likelihood at the estimate. \n"
      ]
     },
     "metadata": {},
     "output_type": "display_data"
    }
   ],
   "source": [
    "%%R\n",
    "### DO NOT CHANGE THE LINES BELOW ###\n",
    "set.seed(123)\n",
    "G_ <- read_graph('graph.graphml', format='graphml')\n",
    "G <- asNetwork(G_)\n",
    "#### END OF PART THAT SHOULD NOT BE MODIFIED ####\n",
    "\n",
    "#### ADD YOUR R CODE BELOW ####\n",
    "\n",
    "# Fit an ERGM with only the edges term\n",
    "model_1 <- ergm(G ~ edges)\n",
    "\n",
    "# Change the line below to store your answer\n",
    "ans_1 <- coef(model_1)['edges']\n",
    "print(ans_1)\n"
   ]
  },
  {
   "cell_type": "code",
   "execution_count": 5,
   "metadata": {},
   "outputs": [
    {
     "name": "stdout",
     "output_type": "stream",
     "text": [
      "-1.8294997965042568\n"
     ]
    }
   ],
   "source": [
    "### DO NOT CHANGE THE CODE BELOW ###\n",
    "%R -o ans_1\n",
    "ans[1] = float(ans_1[0])\n",
    "print(ans[1])"
   ]
  },
  {
   "cell_type": "markdown",
   "metadata": {},
   "source": [
    "## Problem 2\n",
    "\n",
    "[**1 point**, **R**] Fit an ERGM to the graph `G` with `edges` term, and a term to account for the absolute difference in income. Save the estimated coefficient of the edge term in `ans_2`. _The answer will be exported to Python and stored in `ans[2]` automatically._ "
   ]
  },
  {
   "cell_type": "code",
   "execution_count": 6,
   "metadata": {},
   "outputs": [
    {
     "name": "stdout",
     "output_type": "stream",
     "text": [
      "    edges \n",
      "-1.362207 \n"
     ]
    },
    {
     "data": {
      "text/plain": [
       "Starting maximum pseudolikelihood estimation (MPLE):\n",
       "Obtaining the responsible dyads.\n",
       "Evaluating the predictor and response matrix.\n",
       "Maximizing the pseudolikelihood.\n",
       "Finished MPLE.\n",
       "Evaluating log-likelihood at the estimate. \n"
      ]
     },
     "metadata": {},
     "output_type": "display_data"
    }
   ],
   "source": [
    "%%R\n",
    "### DO NOT CHANGE THE LINES BELOW ###\n",
    "set.seed(123)\n",
    "#### END OF PART THAT SHOULD NOT BE MODIFIED ####\n",
    "\n",
    "#### ADD YOUR R CODE BELOW ####\n",
    "# Fit an ERGM with edges and absolute difference in income\n",
    "model_2 <- ergm(G ~ edges + absdiff(\"income\"))\n",
    "\n",
    "# Change the line below to store your answer\n",
    "ans_2 <- coef(model_2)['edges']\n",
    "print(ans_2)\n"
   ]
  },
  {
   "cell_type": "code",
   "execution_count": 7,
   "metadata": {},
   "outputs": [
    {
     "name": "stdout",
     "output_type": "stream",
     "text": [
      "-1.3622072521859372\n"
     ]
    }
   ],
   "source": [
    "### DO NOT CHANGE THE CODE BELOW ###\n",
    "%R -o ans_2\n",
    "ans[2] = float(ans_2[0])\n",
    "print(ans[2])"
   ]
  },
  {
   "cell_type": "markdown",
   "metadata": {},
   "source": [
    "## Problem 3\n",
    "\n",
    "[**2 points**, **R**] Test the model from Problem 2 against the model from Problem 1 using the `anova` function. Save the $p$-value in `ans_3`. _The answer will be exported to Python and stored in `ans[3]` automatically._ "
   ]
  },
  {
   "cell_type": "code",
   "execution_count": 8,
   "metadata": {},
   "outputs": [
    {
     "name": "stdout",
     "output_type": "stream",
     "text": [
      "Analysis of Deviance Table\n",
      "\n",
      "Model 1: G ~ edges\n",
      "Model 2: G ~ edges + absdiff(\"income\")\n",
      "     Df Deviance Resid. Df Resid. Dev Pr(>|Chisq|)    \n",
      "NULL                  1128    1563.74                 \n",
      "1     1   657.14      1127     906.60    < 2.2e-16 ***\n",
      "2     1    15.11      1126     891.49    0.0001013 ***\n",
      "---\n",
      "Signif. codes:  0 ‘***’ 0.001 ‘**’ 0.01 ‘*’ 0.05 ‘.’ 0.1 ‘ ’ 1\n",
      "[1] 0.0001012928\n"
     ]
    }
   ],
   "source": [
    "%%R\n",
    "### DO NOT CHANGE THE LINES BELOW ###\n",
    "set.seed(123)\n",
    "#### END OF PART THAT SHOULD NOT BE MODIFIED ####\n",
    "\n",
    "#### ADD YOUR R CODE BELOW ####\n",
    "# Perform the likelihood ratio test\n",
    "anova_result <- anova(model_1, model_2)\n",
    "\n",
    "print(anova_result)\n",
    "\n",
    "# Change the line below to store your answer\n",
    "ans_3 <- anova_result$\"Pr(>|Chisq|)\"[3]\n",
    "print(ans_3)\n"
   ]
  },
  {
   "cell_type": "code",
   "execution_count": 9,
   "metadata": {},
   "outputs": [
    {
     "name": "stdout",
     "output_type": "stream",
     "text": [
      "0.00010129283621905604\n"
     ]
    }
   ],
   "source": [
    "### DO NOT CHANGE THE CODE BELOW ###\n",
    "%R -o ans_3\n",
    "ans[3] = float(ans_3[0])\n",
    "print(ans[3])"
   ]
  },
  {
   "cell_type": "markdown",
   "metadata": {},
   "source": [
    "## Problem 4\n",
    "\n",
    "[**2 points**, **R**] Fit an ERGM to the graph `G` with `edges` term, a term to account for the absolute difference in income, and a term that reflects whether two nodes have the same type. Extract the BIC using the `BIC` function and save the value in `ans_4`. _The answer will be exported to Python and stored in `ans[4]` automatically._ "
   ]
  },
  {
   "cell_type": "code",
   "execution_count": 10,
   "metadata": {},
   "outputs": [
    {
     "name": "stdout",
     "output_type": "stream",
     "text": [
      "[1] 897.6565\n",
      "attr(,\"vcov\")\n",
      "[1] 0\n"
     ]
    },
    {
     "data": {
      "text/plain": [
       "Starting maximum pseudolikelihood estimation (MPLE):\n",
       "Obtaining the responsible dyads.\n",
       "Evaluating the predictor and response matrix.\n",
       "Maximizing the pseudolikelihood.\n",
       "Finished MPLE.\n",
       "Evaluating log-likelihood at the estimate. \n"
      ]
     },
     "metadata": {},
     "output_type": "display_data"
    }
   ],
   "source": [
    "%%R\n",
    "### DO NOT CHANGE THE LINES BELOW ###\n",
    "set.seed(123)\n",
    "#### END OF PART THAT SHOULD NOT BE MODIFIED ####\n",
    "\n",
    "#### ADD YOUR R CODE BELOW ####\n",
    "# Fit an ERGM with edges, absolute difference in income, and same type\n",
    "model_3 <- ergm(G ~ edges + absdiff(\"income\") + nodematch(\"type\"))\n",
    "\n",
    "# Change the line below to store your answer\n",
    "ans_4 <- BIC(model_3)\n",
    "print(ans_4)"
   ]
  },
  {
   "cell_type": "code",
   "execution_count": 11,
   "metadata": {},
   "outputs": [
    {
     "name": "stdout",
     "output_type": "stream",
     "text": [
      "897.656519875635\n"
     ]
    }
   ],
   "source": [
    "### DO NOT CHANGE THE CODE BELOW ###\n",
    "%R -o ans_4\n",
    "ans[4] = float(ans_4[0])\n",
    "print(ans[4])"
   ]
  },
  {
   "cell_type": "markdown",
   "metadata": {},
   "source": [
    "## Problem 5/6/7\n",
    "\n",
    "[**3 points** (1 point each), **R**] Use the function `ergmm` (**set `seed=42` as argument to the function**) from the `latentnet` R-library to fit a latent space model to the graph `G` with an `edges` term, a term accounting for the absolute income difference, a term indicating whether two nodes share the same type, and a two dimensional latent space term with Euclidean distance. For the latent space term, fit the model with 1, 2, and 3 groups, respectively. Save the BIC of the model with 1, 2, and 3 groups in `ans_5`, `ans_6`, and `ans_7`, respectively. _The answers will be exported to Python and stored in `ans[5]`, `ans[6]`, and `ans[7]` automatically._ _Note: Do not worry about convergence or other MCMC warnings for the purpose of this assignment._ _Note: The BIC must be extracted differently; use `summary`; Use online resources if needed._"
   ]
  },
  {
   "cell_type": "code",
   "execution_count": 12,
   "metadata": {},
   "outputs": [
    {
     "name": "stdout",
     "output_type": "stream",
     "text": [
      "[1] 969.0179\n",
      "[1] 933.5186\n",
      "[1] 927.1109\n"
     ]
    },
    {
     "data": {
      "text/plain": [
       "NOTE: It is not certain whether it is appropriate to use latentnet's BIC to select latent space dimension, whether or not to include actor-specific random effects, and to compare clustered models with the unclustered model.\n",
       "In addition: Warning messages:\n",
       "1: In backoff.check(model, burnin.sample, burnin.control) :\n",
       "  Backing off: too few acceptances. If you see this message several times in a row, use a longer burnin.\n",
       "2: In backoff.check(model, burnin.sample, burnin.control) :\n",
       "  Backing off: too few acceptances. If you see this message several times in a row, use a longer burnin.\n"
      ]
     },
     "metadata": {},
     "output_type": "display_data"
    }
   ],
   "source": [
    "%%R\n",
    "### DO NOT CHANGE THE LINES BELOW ###\n",
    "set.seed(123)\n",
    "#### END OF PART THAT SHOULD NOT BE MODIFIED ####\n",
    "\n",
    "#### ADD YOUR R CODE BELOW ####\n",
    "# Fit latent space models with 1, 2, and 3 groups, setting seed=42\n",
    "model_1_group <- ergmm(G ~ edges + absdiff(\"income\") + nodematch(\"type\") + euclidean(d=2, G=1), seed=42)\n",
    "model_2_groups <- ergmm(G ~ edges + absdiff(\"income\") + nodematch(\"type\") + euclidean(d=2, G=2), seed=42)\n",
    "model_3_groups <- ergmm(G ~ edges + absdiff(\"income\") + nodematch(\"type\") + euclidean(d=2, G=3), seed=42)\n",
    "\n",
    "# Extract the BIC values for each model using `summary`\n",
    "ans_5 <- summary(model_1_group)$bic$overall\n",
    "ans_6 <- summary(model_2_groups)$bic$overall\n",
    "ans_7 <- summary(model_3_groups)$bic$overall\n",
    "\n",
    "# Print the BIC values to verify\n",
    "print(ans_5)\n",
    "print(ans_6)\n",
    "print(ans_7)\n"
   ]
  },
  {
   "cell_type": "code",
   "execution_count": 13,
   "metadata": {},
   "outputs": [
    {
     "name": "stdout",
     "output_type": "stream",
     "text": [
      "969.0179197062007\n",
      "933.5186245019577\n",
      "927.1108659564868\n"
     ]
    }
   ],
   "source": [
    "### DO NOT CHANGE THE CODE BELOW ###\n",
    "%R -o ans_5\n",
    "ans[5] = float(ans_5[0])\n",
    "print(ans[5])\n",
    "%R -o ans_6\n",
    "ans[6] = float(ans_6[0])\n",
    "print(ans[6])\n",
    "%R -o ans_7\n",
    "ans[7] = float(ans_7[0])\n",
    "print(ans[7])"
   ]
  },
  {
   "cell_type": "markdown",
   "metadata": {},
   "source": [
    "# Problem 8\n",
    "\n",
    "[**1 point**, **R**] Choose the best model from Problems 5, 6, and 7, using the BIC. Save the number of groups in the best model in `ans_8` (that is, 1 if the model with 1 group is the best, 2 if the model with 2 groups is the best, and 3 if the model with 3 groups is the best). _The answer will be exported to R and stored in `ans[8]` automatically._  "
   ]
  },
  {
   "cell_type": "code",
   "execution_count": 14,
   "metadata": {},
   "outputs": [
    {
     "name": "stdout",
     "output_type": "stream",
     "text": [
      "[1] 3\n"
     ]
    }
   ],
   "source": [
    "%%R\n",
    "### DO NOT CHANGE THE LINES BELOW ###\n",
    "set.seed(123)\n",
    "#### END OF PART THAT SHOULD NOT BE MODIFIED ####\n",
    "\n",
    "#### ADD YOUR R CODE BELOW ####\n",
    "# Find the BIC values for each model\n",
    "bic_values <- c(ans_5, ans_6, ans_7)\n",
    "\n",
    "# Identify the model with the lowest BIC\n",
    "best_model_index <- which.min(bic_values)\n",
    "\n",
    "# Save the number of groups in the best model\n",
    "ans_8 <- best_model_index\n",
    "\n",
    "# Change the line below to store your answer\n",
    "print(ans_8)\n"
   ]
  },
  {
   "cell_type": "code",
   "execution_count": 15,
   "metadata": {},
   "outputs": [
    {
     "name": "stdout",
     "output_type": "stream",
     "text": [
      "3.0\n"
     ]
    }
   ],
   "source": [
    "### DO NOT CHANGE THE CODE BELOW ###\n",
    "%R -o ans_8\n",
    "ans[8] = float(ans_8[0])\n",
    "print(ans[8])\n"
   ]
  },
  {
   "cell_type": "markdown",
   "metadata": {},
   "source": [
    "**Ensure your notebook runs by pressing \"Run All\" before submitting.**\n",
    "\n",
    "# END OF ASSIGNMENT"
   ]
  },
  {
   "cell_type": "code",
   "execution_count": 16,
   "metadata": {},
   "outputs": [],
   "source": [
    "#### DO NOT CHANGE ANYTHING BELOW THIS LINE ####\n",
    "\n",
    "# Save the answer dictionary as JSON\n",
    "with open('solutions.json', 'w') as file:\n",
    "  json.dump(ans, file, indent=2)"
   ]
  },
  {
   "cell_type": "code",
   "execution_count": null,
   "metadata": {},
   "outputs": [],
   "source": []
  }
 ],
 "metadata": {
  "kernelspec": {
   "display_name": "ST5225",
   "language": "python",
   "name": "python3"
  },
  "language_info": {
   "codemirror_mode": {
    "name": "ipython",
    "version": 3
   },
   "file_extension": ".py",
   "mimetype": "text/x-python",
   "name": "python",
   "nbconvert_exporter": "python",
   "pygments_lexer": "ipython3",
   "version": "3.12.2"
  }
 },
 "nbformat": 4,
 "nbformat_minor": 2
}
