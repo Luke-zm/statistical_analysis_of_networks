{
 "cells": [
  {
   "cell_type": "markdown",
   "metadata": {},
   "source": [
    "# ST5225 Final Exam — Part 2\n",
    "\n",
    "This is the second part of the final exam. This file is both the problem set and your answer sheet. You need to add your code to the respective code cells, and then upload this notebook to Canvas.\n",
    "\n",
    "**You have 1 hour 15 minutes to complete this part.**\n",
    "\n",
    "**Do not use any libraries other than those imported below.**\n",
    "\n",
    "The solution to each problem is to be stored in the dictionary variable `ans`: Your answer to Problem 1 should be stored in `ans[1]`, your answer to Problem 2 should be stored in `ans[2]`, and so forth. If you do the coding in a separate place and only store the results in this notebook, you will not get any partial points in case your answer is wrong, so I encourage you to add the full code to this notebook. **Make sure the whole Jupyter Notebook runs without errors before submitting**. You can check this by pressing _Run All_ in the menu.\n",
    "\n",
    "For each problem, the number of points you can achieve is indicated in the question. **The maximum number of points is 20**. Points are only given if the code runs error-free and the output is correct. Partial points may be given depending on the quality of the answer. It is also indicated whether you should use Python or R to solve the problem.\n",
    "\n",
    "**Ensure your notebook runs by pressing \"Run All\" before submitting.**"
   ]
  },
  {
   "cell_type": "code",
   "execution_count": null,
   "metadata": {},
   "outputs": [],
   "source": [
    "# Import some libraries\n",
    "import math\n",
    "import random\n",
    "import json\n",
    "\n",
    "try:\n",
    "  import networkx as nx\n",
    "  import pandas as pd\n",
    "  import numpy as np\n",
    "  import powerlaw\n",
    "except:\n",
    "  %pip install networkx\n",
    "  %pip install pandas\n",
    "  %pip install numpy\n",
    "  %pip install powerlaw\n",
    "\n",
    "\n",
    "# Create your answer dictionary\n",
    "ans = dict()\n",
    "\n",
    "# Load the rpy2 extension\n",
    "try:\n",
    "  %load_ext rpy2.ipython\n",
    "except:\n",
    "  %pip install rpy2"
   ]
  },
  {
   "cell_type": "code",
   "execution_count": null,
   "metadata": {},
   "outputs": [],
   "source": [
    "%%R \n",
    "options(repos=\"https://cloud.r-project.org\")\n",
    "packages <- c(\"igraph\", \"ergm\", \"intergraph\", \"network\", \"latentnet\")\n",
    "install.packages(setdiff(packages, rownames(installed.packages())))  \n",
    "\n",
    "library(igraph)\n",
    "library(intergraph)\n",
    "library(ergm)\n",
    "library(network)\n",
    "library(latentnet)"
   ]
  },
  {
   "cell_type": "markdown",
   "metadata": {},
   "source": [
    "## Problem 1"
   ]
  },
  {
   "cell_type": "code",
   "execution_count": null,
   "metadata": {},
   "outputs": [],
   "source": [
    "### DO NOT CHANGE THE LINES BELOW ###\n",
    "random.seed(42)\n",
    "np.random.seed(42)\n",
    "#### END OF PART THAT SHOULD NOT BE MODIFIED ####\n",
    "\n",
    "#### ADD YOUR CODE BELOW ####\n",
    "\n",
    "# Change the line below to store your answer\n",
    "ans[1] = None\n",
    "print(ans[1])"
   ]
  },
  {
   "cell_type": "markdown",
   "metadata": {},
   "source": [
    "## Problem 2"
   ]
  },
  {
   "cell_type": "code",
   "execution_count": null,
   "metadata": {},
   "outputs": [],
   "source": [
    "### DO NOT CHANGE THE LINES BELOW ###\n",
    "random.seed(42)\n",
    "np.random.seed(42)\n",
    "#### END OF PART THAT SHOULD NOT BE MODIFIED ####\n",
    "\n",
    "#### ADD YOUR CODE BELOW ####\n",
    "\n",
    "# Change the line below to store your answer\n",
    "ans[2] = None\n",
    "print(ans[2])"
   ]
  },
  {
   "cell_type": "markdown",
   "metadata": {},
   "source": [
    "## Problem 3"
   ]
  },
  {
   "cell_type": "code",
   "execution_count": null,
   "metadata": {},
   "outputs": [],
   "source": [
    "### DO NOT CHANGE THE LINES BELOW ###\n",
    "random.seed(42)\n",
    "np.random.seed(42)\n",
    "#### END OF PART THAT SHOULD NOT BE MODIFIED ####\n",
    "\n",
    "#### ADD YOUR CODE BELOW ####\n",
    "\n",
    "# Change the line below to store your answer\n",
    "ans[3] = None\n",
    "print(ans[3])"
   ]
  },
  {
   "cell_type": "markdown",
   "metadata": {},
   "source": [
    "## Problem 4"
   ]
  },
  {
   "cell_type": "code",
   "execution_count": null,
   "metadata": {},
   "outputs": [],
   "source": [
    "### DO NOT CHANGE THE LINES BELOW ###\n",
    "random.seed(42)\n",
    "np.random.seed(42)\n",
    "#### END OF PART THAT SHOULD NOT BE MODIFIED ####\n",
    "\n",
    "#### ADD YOUR CODE BELOW ####\n",
    "\n",
    "# Change the line below to store your answer\n",
    "ans[4] = None\n",
    "print(ans[4])\n"
   ]
  },
  {
   "cell_type": "markdown",
   "metadata": {},
   "source": [
    "## Problem 5 "
   ]
  },
  {
   "cell_type": "code",
   "execution_count": null,
   "metadata": {},
   "outputs": [],
   "source": [
    "%%bash \n",
    "## If you haven't downloaded the file yet, you can run the following command\n",
    "if [ ! -f graph_1.graphml ]; then\n",
    "  ## Replace e1234567 by your Canvas login ID\n",
    "  curl https://nus-st5225.netlify.app/final/graph_1.graphml -o graph_1.graphml\n",
    "fi"
   ]
  },
  {
   "cell_type": "code",
   "execution_count": null,
   "metadata": {},
   "outputs": [],
   "source": [
    "### DO NOT CHANGE THE LINES BELOW ###\n",
    "random.seed(42)\n",
    "np.random.seed(42)\n",
    "G1 = nx.read_graphml('graph_1.graphml')\n",
    "#### END OF PART THAT SHOULD NOT BE MODIFIED ####\n",
    "\n",
    "#### ADD YOUR CODE BELOW ####\n",
    "\n",
    "# Change the line below to store your answer\n",
    "ans[8] = None\n",
    "print(ans[8])"
   ]
  },
  {
   "cell_type": "markdown",
   "metadata": {},
   "source": [
    "## Problem 6"
   ]
  },
  {
   "cell_type": "code",
   "execution_count": null,
   "metadata": {},
   "outputs": [],
   "source": [
    "### DO NOT CHANGE THE LINES BELOW ###\n",
    "random.seed(42)\n",
    "np.random.seed(42)\n",
    "#### END OF PART THAT SHOULD NOT BE MODIFIED ####\n",
    "\n",
    "#### ADD YOUR CODE BELOW ####\n",
    "\n",
    "# Change the line below to store your answer\n",
    "ans[6] = None\n",
    "print(ans[6])\n"
   ]
  },
  {
   "cell_type": "markdown",
   "metadata": {},
   "source": [
    "## Problem 7"
   ]
  },
  {
   "cell_type": "code",
   "execution_count": null,
   "metadata": {},
   "outputs": [],
   "source": [
    "### DO NOT CHANGE THE LINES BELOW ###\n",
    "random.seed(42)\n",
    "np.random.seed(42)\n",
    "#### END OF PART THAT SHOULD NOT BE MODIFIED ####\n",
    "\n",
    "#### ADD YOUR CODE BELOW ####\n",
    "\n",
    "# Change the line below to store your answer\n",
    "ans[7] = None\n",
    "print(ans[7])\n"
   ]
  },
  {
   "cell_type": "markdown",
   "metadata": {},
   "source": [
    "## Problem 8"
   ]
  },
  {
   "cell_type": "code",
   "execution_count": null,
   "metadata": {},
   "outputs": [],
   "source": [
    "%%bash\n",
    "### DO NOT CHANGE THE LINES BELOW ###\n",
    "## If you haven't downloaded the file yet, you can run the following command\n",
    "if [ ! -f graph_2.graphml ]; then\n",
    "  ## Replace e1234567 by your Canvas login ID\n",
    "  curl https://nus-st5225.netlify.app/final/graph_2.graphml -o graph_2.graphml\n",
    "fi"
   ]
  },
  {
   "cell_type": "code",
   "execution_count": null,
   "metadata": {},
   "outputs": [],
   "source": [
    "%%R\n",
    "### DO NOT CHANGE THE LINES BELOW ###\n",
    "set.seed(42)\n",
    "G2_ <- read_graph('graph_2.graphml', format='graphml')\n",
    "G2 <- asNetwork(G2_)\n",
    "#### END OF PART THAT SHOULD NOT BE MODIFIED ####\n",
    "\n",
    "#### ADD YOUR R CODE BELOW ####\n",
    "\n",
    "# Change the line below to store your answer\n",
    "ans_8 = NA\n",
    "print(ans_8)\n"
   ]
  },
  {
   "cell_type": "code",
   "execution_count": null,
   "metadata": {},
   "outputs": [],
   "source": [
    "### DO NOT CHANGE THE CODE BELOW ###\n",
    "%R -o ans_8\n",
    "ans[8] = float(ans_8[0])\n",
    "print(ans[8])"
   ]
  },
  {
   "cell_type": "markdown",
   "metadata": {},
   "source": [
    "## Problem 9/10/11/12"
   ]
  },
  {
   "cell_type": "code",
   "execution_count": null,
   "metadata": {},
   "outputs": [],
   "source": [
    "%%R\n",
    "### DO NOT CHANGE THE LINES BELOW ###\n",
    "set.seed(42)\n",
    "#### END OF PART THAT SHOULD NOT BE MODIFIED ####\n",
    "\n",
    "#### ADD YOUR R CODE BELOW ####\n",
    "\n",
    "# Change the line below to store your answer\n",
    "\n",
    "ans_9  = NA\n",
    "ans_10 = NA\n",
    "ans_11 = NA\n",
    "ans_12 = NA\n",
    "\n",
    "print(ans_9)\n",
    "print(ans_10)\n",
    "print(ans_11)\n",
    "print(ans_12)\n"
   ]
  },
  {
   "cell_type": "code",
   "execution_count": null,
   "metadata": {},
   "outputs": [],
   "source": [
    "### DO NOT CHANGE THE CODE BELOW ###\n",
    "%R -o ans_9\n",
    "ans[9] = float(ans_9[0])\n",
    "print(ans[9])\n",
    "%R -o ans_10\n",
    "ans[10] = float(ans_10[0])\n",
    "print(ans[10])\n",
    "%R -o ans_11\n",
    "ans[11] = float(ans_11[0])\n",
    "print(ans[11])\n",
    "%R -o ans_12\n",
    "ans[12] = float(ans_12[0])\n",
    "print(ans[12])"
   ]
  },
  {
   "cell_type": "markdown",
   "metadata": {},
   "source": [
    "## Problem 13/14/15/16"
   ]
  },
  {
   "cell_type": "code",
   "execution_count": null,
   "metadata": {},
   "outputs": [],
   "source": [
    "%%R\n",
    "### DO NOT CHANGE THE LINES BELOW ###\n",
    "set.seed(42)\n",
    "#### END OF PART THAT SHOULD NOT BE MODIFIED ####\n",
    "\n",
    "#### ADD YOUR R CODE BELOW ####\n",
    "\n",
    "# Change the line below to store your answer\n",
    "ans_13 = NA\n",
    "ans_14 = NA\n",
    "ans_15 = NA\n",
    "ans_16 = NA\n",
    "\n",
    "print(ans_13)\n",
    "print(ans_14)\n",
    "print(ans_15)\n",
    "print(ans_16)\n"
   ]
  },
  {
   "cell_type": "code",
   "execution_count": null,
   "metadata": {},
   "outputs": [],
   "source": [
    "### DO NOT CHANGE THE CODE BELOW ###\n",
    "%R -o ans_13\n",
    "ans[13] = float(ans_13[0])\n",
    "print(ans[13])\n",
    "%R -o ans_14\n",
    "ans[14] = float(ans_14[0])\n",
    "print(ans[14])\n",
    "%R -o ans_15\n",
    "ans[15] = float(ans_15[0])\n",
    "print(ans[15])\n",
    "%R -o ans_16\n",
    "ans[16] = float(ans_16[0])\n",
    "print(ans[16])"
   ]
  },
  {
   "cell_type": "markdown",
   "metadata": {},
   "source": [
    "**Ensure your notebook runs by pressing \"Run All\" before submitting.**\n",
    "\n",
    "# END OF ASSIGNMENT"
   ]
  },
  {
   "cell_type": "code",
   "execution_count": null,
   "metadata": {},
   "outputs": [],
   "source": [
    "#### DO NOT CHANGE ANYTHING BELOW THIS LINE ####\n",
    "\n",
    "# Save the dictionary as JSON\n",
    "with open('solutions.json', 'w') as file:\n",
    "  json.dump(ans, file, indent=2)"
   ]
  }
 ],
 "metadata": {
  "kernelspec": {
   "display_name": "ST5225",
   "language": "python",
   "name": "python3"
  },
  "language_info": {
   "codemirror_mode": {
    "name": "ipython",
    "version": 3
   },
   "file_extension": ".py",
   "mimetype": "text/x-python",
   "name": "python",
   "nbconvert_exporter": "python",
   "pygments_lexer": "ipython3",
   "version": "3.12.2"
  }
 },
 "nbformat": 4,
 "nbformat_minor": 2
}
