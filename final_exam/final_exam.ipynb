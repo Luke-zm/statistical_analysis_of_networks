{
 "cells": [
  {
   "cell_type": "markdown",
   "metadata": {},
   "source": [
    "# ST5225 Final Exam — Part 2\n",
    "\n",
    "This is the second part of the final exam. This file is both the problem set and your answer sheet. You need to add your code to the respective code cells, and then upload this notebook to Canvas.\n",
    "\n",
    "**You have 75 minutes (1 hour 15 minutes) to complete this part.**\n",
    "\n",
    "**Do not use any libraries other than those imported below.**\n",
    "\n",
    "The solution to each problem is to be stored in the dictionary variable `ans`: Your answer to Problem 1 should be stored in `ans[1]`, your answer to Problem 2 should be stored in `ans[2]`, and so forth. If you do the coding in a separate place and only store the results in this notebook, you will not get any partial points in case your answer is wrong, so I encourage you to add the full code to this notebook. **Make sure the whole Jupyter Notebook runs without errors before submitting**. You can check this by pressing _Run All_ in the menu.\n",
    "\n",
    "For each problem, the number of points you can achieve is indicated in the question. **The maximum number of points is 20**. Points are only given if the code runs error-free and the output is correct. Partial points may be given depending on the quality of the answer. It is also indicated whether you should use Python or R to solve the problem.\n",
    "\n",
    "**Ensure your notebook runs by pressing \"Run All\" before submitting. Otherwise, points will be deducted.**"
   ]
  },
  {
   "cell_type": "code",
   "execution_count": 1,
   "metadata": {},
   "outputs": [],
   "source": [
    "# Import some libraries\n",
    "import math\n",
    "import random\n",
    "import json\n",
    "\n",
    "try:\n",
    "  import networkx as nx\n",
    "  import pandas as pd\n",
    "  import numpy as np\n",
    "  import powerlaw\n",
    "except:\n",
    "  %pip install networkx\n",
    "  %pip install pandas\n",
    "  %pip install numpy\n",
    "  %pip install powerlaw\n",
    "\n",
    "\n",
    "# Create your answer dictionary\n",
    "ans = dict()\n",
    "\n",
    "# Load the rpy2 extension\n",
    "try:\n",
    "  %load_ext rpy2.ipython\n",
    "except:\n",
    "  %pip install rpy2"
   ]
  },
  {
   "cell_type": "code",
   "execution_count": 2,
   "metadata": {},
   "outputs": [
    {
     "data": {
      "text/plain": [
       "\n",
       "Attaching package: ‘igraph’\n",
       "\n",
       "The following objects are masked from ‘package:stats’:\n",
       "\n",
       "    decompose, spectrum\n",
       "\n",
       "The following object is masked from ‘package:base’:\n",
       "\n",
       "    union\n",
       "\n",
       "Loading required package: network\n",
       "\n",
       "‘network’ 1.18.2 (2023-12-04), part of the Statnet Project\n",
       "* ‘news(package=\"network\")’ for changes since last version\n",
       "* ‘citation(\"network\")’ for citation information\n",
       "* ‘https://statnet.org’ for help, support, and other information\n",
       "\n",
       "\n",
       "Attaching package: ‘network’\n",
       "\n",
       "The following objects are masked from ‘package:igraph’:\n",
       "\n",
       "    %c%, %s%, add.edges, add.vertices, delete.edges, delete.vertices,\n",
       "    get.edge.attribute, get.edges, get.vertex.attribute, is.bipartite,\n",
       "    is.directed, list.edge.attributes, list.vertex.attributes,\n",
       "    set.edge.attribute, set.vertex.attribute\n",
       "\n",
       "\n",
       "‘ergm’ 4.7.1 (2024-10-07), part of the Statnet Project\n",
       "* ‘news(package=\"ergm\")’ for changes since last version\n",
       "* ‘citation(\"ergm\")’ for citation information\n",
       "* ‘https://statnet.org’ for help, support, and other information\n",
       "\n",
       "‘ergm’ 4 is a major update that introduces some backwards-incompatible\n",
       "changes. Please type ‘news(package=\"ergm\")’ for a list of major\n",
       "changes.\n",
       "\n",
       "\n",
       "‘latentnet’ 2.11.0 (2024-02-19), part of the Statnet Project\n",
       "* ‘news(package=\"latentnet\")’ for changes since last version\n",
       "* ‘citation(\"latentnet\")’ for citation information\n",
       "* ‘https://statnet.org’ for help, support, and other information\n",
       "NOTE: BIC calculation prior to latentnet 2.7.0 had a bug in the calculation of the effective number of parameters. See help(summary.ergmm) for details.\n",
       "NOTE: Prior to version 2.8.0, handling of fixed effects for directed networks had a bug: the covariate matrix was transposed.\n",
       "In addition: Warning message:\n",
       "In (function (package, help, pos = 2, lib.loc = NULL, character.only = FALSE,  :\n",
       "  library ‘/usr/lib/R/site-library’ contains no packages\n"
      ]
     },
     "metadata": {},
     "output_type": "display_data"
    }
   ],
   "source": [
    "%%R \n",
    "options(repos=\"https://cloud.r-project.org\")\n",
    "packages <- c(\"igraph\", \"ergm\", \"intergraph\", \"network\", \"latentnet\")\n",
    "install.packages(setdiff(packages, rownames(installed.packages())))  \n",
    "\n",
    "library(igraph)\n",
    "library(intergraph)\n",
    "library(ergm)\n",
    "library(network)\n",
    "library(latentnet)"
   ]
  },
  {
   "cell_type": "markdown",
   "metadata": {},
   "source": [
    "## Problem 1 (Erdős-Rényi graphs, Component Sizes)\n",
    "\n",
    "[**1 point**, **Python**] Generate 1000 Erdős-Rényi graphs each with $n=150$ nodes and edge probability $p=0.01$. For each graph, calculate the size of the second largest component. Save the average of the sizes of second largest components in `ans[1]`. "
   ]
  },
  {
   "cell_type": "code",
   "execution_count": 3,
   "metadata": {},
   "outputs": [
    {
     "name": "stdout",
     "output_type": "stream",
     "text": [
      "8.847\n"
     ]
    }
   ],
   "source": [
    "### DO NOT CHANGE THE LINES BELOW ###\n",
    "random.seed(42)\n",
    "np.random.seed(42)\n",
    "#### END OF PART THAT SHOULD NOT BE MODIFIED ####\n",
    "\n",
    "#### ADD YOUR CODE BELOW ####\n",
    "# Generate 1000 Erdős-Rényi graphs and calculate the size of the second largest component\n",
    "n = 150\n",
    "p = 0.01\n",
    "second_largest_sizes = []\n",
    "\n",
    "for _ in range(1000):\n",
    "    G = nx.erdos_renyi_graph(n, p)\n",
    "    components = sorted(nx.connected_components(G), key=len, reverse=True)\n",
    "    if len(components) > 1:\n",
    "        second_largest_sizes.append(len(components[1]))\n",
    "    else:\n",
    "        second_largest_sizes.append(0)\n",
    "\n",
    "# Calculate the average size of the second largest components\n",
    "average_second_largest_size = np.mean(second_largest_sizes)\n",
    "\n",
    "\n",
    "# Change the line below to store your answer\n",
    "ans[1] = average_second_largest_size\n",
    "print(ans[1])"
   ]
  },
  {
   "cell_type": "markdown",
   "metadata": {},
   "source": [
    "## Problem 2 (Erdős–Rényi Graphs, 4-Cycles)\n",
    "\n",
    "[**1 point**, **Python**] Assume an Erdős-Rényi graph on $n=120000$ nodes. How do you need to choose the edge connection probability $p$ so that the expected number of 4-cycles equals 3200? Save your answer in `ans[2]`."
   ]
  },
  {
   "cell_type": "code",
   "execution_count": 4,
   "metadata": {},
   "outputs": [
    {
     "name": "stdout",
     "output_type": "stream",
     "text": [
      "0.00013872811578372914\n"
     ]
    }
   ],
   "source": [
    "from scipy.special import comb\n",
    "\n",
    "### DO NOT CHANGE THE LINES BELOW ###\n",
    "random.seed(42)\n",
    "np.random.seed(42)\n",
    "#### END OF PART THAT SHOULD NOT BE MODIFIED ####\n",
    "\n",
    "#### ADD YOUR CODE BELOW ####\n",
    "# The expected number of 4-cycles in an Erdős-Rényi graph is given by:\n",
    "# E[C4] = (n choose 4) * p^4\n",
    "# We need to solve for p such that E[C4] = 3200\n",
    "\n",
    "\n",
    "n = 120000\n",
    "expected_4_cycles = 3200\n",
    "\n",
    "# Calculate the binomial coefficient (n choose 4)\n",
    "binom_coeff = comb(n, 4)\n",
    "\n",
    "# Solve for p\n",
    "p = (expected_4_cycles / binom_coeff) ** (1/4)\n",
    "\n",
    "# Change the line below to store your answer\n",
    "ans[2] = p\n",
    "print(ans[2])"
   ]
  },
  {
   "cell_type": "markdown",
   "metadata": {},
   "source": [
    "## Problem 3 (Erdős-Rényi Graphs, Connected Components)\n",
    "\n",
    "[**1 point**, **Python**] Generate 1000 Erdős-Rényi graphs with $n=200$ nodes and edge probability $p=0.008$. For each graph, calculate the number of components. Save the average number of components in `ans[3]`."
   ]
  },
  {
   "cell_type": "code",
   "execution_count": 5,
   "metadata": {},
   "outputs": [
    {
     "name": "stdout",
     "output_type": "stream",
     "text": [
      "53.198\n"
     ]
    }
   ],
   "source": [
    "### DO NOT CHANGE THE LINES BELOW ###\n",
    "random.seed(42)\n",
    "np.random.seed(42)\n",
    "#### END OF PART THAT SHOULD NOT BE MODIFIED ####\n",
    "\n",
    "#### ADD YOUR CODE BELOW ####\n",
    "# Generate 1000 Erdős-Rényi graphs and calculate the number of components\n",
    "n = 200\n",
    "p = 0.008\n",
    "num_components = []\n",
    "\n",
    "for _ in range(1000):\n",
    "    G = nx.erdos_renyi_graph(n, p)\n",
    "    components = nx.number_connected_components(G)\n",
    "    num_components.append(components)\n",
    "\n",
    "# Calculate the average number of components\n",
    "average_num_components = np.mean(num_components)\n",
    "\n",
    "# Change the line below to store your answer\n",
    "ans[3] = average_num_components\n",
    "print(ans[3])"
   ]
  },
  {
   "cell_type": "markdown",
   "metadata": {},
   "source": [
    "## Problem 4 (Configuration Model, Diameter)\n",
    "\n",
    "[**1 point**, **Python**] Generate 1000 realisations of the configuration multigraph model on $n=60$ nodes. Assume the degree distribution is given as follows:\n",
    "- 10 nodes have degree 1\n",
    "- 10 nodes have degree 2\n",
    "- 15 nodes have degree 3\n",
    "- 15 nodes have degree 4\n",
    "- 5 nodes have degree 10\n",
    "- 5 nodes have degree 25\n",
    "\n",
    "For each realisation, extract the largest component and calculate the diameter of that component. Save the average `ans[4]`. _Note: We have not explicitly discussed **diameter** in the lecture. Use the internet to find out what it is._ "
   ]
  },
  {
   "cell_type": "code",
   "execution_count": 6,
   "metadata": {},
   "outputs": [
    {
     "name": "stdout",
     "output_type": "stream",
     "text": [
      "5.817\n"
     ]
    }
   ],
   "source": [
    "### DO NOT CHANGE THE LINES BELOW ###\n",
    "random.seed(42)\n",
    "np.random.seed(42)\n",
    "#### END OF PART THAT SHOULD NOT BE MODIFIED ####\n",
    "\n",
    "#### ADD YOUR CODE BELOW ####\n",
    "# Degree distribution\n",
    "degree_sequence = [1]*10 + [2]*10 + [3]*15 + [4]*15 + [10]*5 + [25]*5\n",
    "\n",
    "diameters = []\n",
    "\n",
    "for _ in range(1000):\n",
    "    # Generate a configuration model multigraph\n",
    "    G = nx.configuration_model(degree_sequence)\n",
    "    \n",
    "    # Convert to simple graph\n",
    "    G = nx.Graph(G)\n",
    "    G.remove_edges_from(nx.selfloop_edges(G))\n",
    "    \n",
    "    # Extract the largest component\n",
    "    largest_component = max(nx.connected_components(G), key=len)\n",
    "    subgraph = G.subgraph(largest_component)\n",
    "    \n",
    "    # Calculate the diameter\n",
    "    if len(subgraph) > 1:\n",
    "        diameter = nx.diameter(subgraph)\n",
    "    else:\n",
    "        diameter = 0\n",
    "    \n",
    "    diameters.append(diameter)\n",
    "\n",
    "# Calculate the average diameter\n",
    "average_diameter = np.mean(diameters)\n",
    "\n",
    "# Change the line below to store your answer\n",
    "ans[4] = average_diameter\n",
    "print(ans[4])\n"
   ]
  },
  {
   "cell_type": "markdown",
   "metadata": {},
   "source": [
    "## Problem 5 (Powerlaw)\n",
    "\n",
    "Ensure the that file `graph_1.graphml` containing the first graph is stored in the same directory as this notebook. The file is a GraphML file containing the graph. **Do not change the name of the file**! The code to load the graph as networkx graph is given below. The graph is stored in the variable `G1` and used in Problems 5, 6 and 7. Do not change the code.\n",
    "\n",
    "[**2 points**, **Python**]  Use the `powerlaw` package to fit a power-law distribution to the degree distribution of the graph `G1`. Let the algorithm choose $x_{\\min}$ on its own. Save the fitted exponent in `ans[5]`. You need to decide whether a discrete or continuous power-law distribution is more appropriate."
   ]
  },
  {
   "cell_type": "code",
   "execution_count": 7,
   "metadata": {},
   "outputs": [
    {
     "name": "stdout",
     "output_type": "stream",
     "text": [
      "Continuous KS: 0.036424566796808056\n",
      "Discrete KS: 0.007329795018780616\n",
      "Discrete vs Exponential R: 149.2781968868651 p: 2.400230869132456e-07\n",
      "Discrete model is better.\n",
      "2.7540027090181356\n"
     ]
    },
    {
     "name": "stderr",
     "output_type": "stream",
     "text": [
      "Calculating best minimal value for power law fit\n",
      "/home/zhiming/miniconda3/envs/ST5225/lib/python3.12/site-packages/powerlaw.py:699: RuntimeWarning: invalid value encountered in divide\n",
      "  (CDF_diff**2) /\n",
      "Calculating best minimal value for power law fit\n",
      "/home/zhiming/miniconda3/envs/ST5225/lib/python3.12/site-packages/powerlaw.py:699: RuntimeWarning: divide by zero encountered in divide\n",
      "  (CDF_diff**2) /\n"
     ]
    }
   ],
   "source": [
    "### DO NOT CHANGE THE LINES BELOW ###\n",
    "random.seed(42)\n",
    "np.random.seed(42)\n",
    "G1 = nx.read_graphml('graph_1.graphml')\n",
    "#### END OF PART THAT SHOULD NOT BE MODIFIED ####\n",
    "\n",
    "#### ADD YOUR CODE BELOW ####\n",
    "# Degree distribution\n",
    "degrees = [degree for node, degree in G1.degree()]\n",
    "\n",
    "# Fit continuous power-law\n",
    "results_continuous = powerlaw.Fit(degrees, xmin=None, discrete=False)\n",
    "\n",
    "# Fit discrete power-law\n",
    "results_discrete = powerlaw.Fit(degrees, xmin=None, discrete=True)\n",
    "\n",
    "# Compare KS statistic\n",
    "print(\"Continuous KS:\", results_continuous.D)\n",
    "print(\"Discrete KS:\", results_discrete.D)\n",
    "\n",
    "# Compare distributions\n",
    "R, p = results_discrete.distribution_compare('power_law', 'exponential')\n",
    "print(\"Discrete vs Exponential R:\", R, \"p:\", p)\n",
    "\n",
    "# Save the fitted exponent (using the better model)\n",
    "if results_discrete.D < results_continuous.D:\n",
    "    print(\"Discrete model is better.\")\n",
    "    res = results_discrete.power_law.alpha\n",
    "else:\n",
    "    print(\"Continuous model is better.\")\n",
    "    res = results_continuous.power_law.alpha\n",
    "\n",
    "# Save the fitted exponent\n",
    "ans[5] = res\n",
    "print(ans[5])"
   ]
  },
  {
   "cell_type": "markdown",
   "metadata": {},
   "source": [
    "## Problem 6 (Robustness, Random Attacks)\n",
    "\n",
    "[**2 points**, **Python**] For each fraction $f$ from a predefined list (`fractions = [0.01, 0.04, 0.08, 0.12, 0.16, 0.20, 0.24, 0.28, 0.32]`) repeat for 100 times: Delete a fraction $f$ of the nodes **at random** from `G1` and calculate the number of connected components in the resulting graph. After all trials for a fraction are done, calculate the number of trials where the graph got disconnected, that is, where the number of connected components was greater than 1. Which is the lowest fraction of nodes that needs to be removed to disconnect the graph in strictly more than 50% of the trials? Save your answer in `ans[6]`.\n",
    "\n",
    " "
   ]
  },
  {
   "cell_type": "code",
   "execution_count": 8,
   "metadata": {},
   "outputs": [
    {
     "name": "stdout",
     "output_type": "stream",
     "text": [
      "Disconnection Results: [(0.01, 0.0), (0.04, 0.0), (0.08, 0.04), (0.12, 0.08), (0.16, 0.22), (0.2, 0.6), (0.24, 0.86), (0.28, 0.98), (0.32, 1.0)]\n",
      "Answer (Lowest Fraction): 0.2\n",
      "0.2\n"
     ]
    }
   ],
   "source": [
    "### DO NOT CHANGE THE LINES BELOW ###\n",
    "random.seed(42)\n",
    "np.random.seed(42)\n",
    "#### END OF PART THAT SHOULD NOT BE MODIFIED ####\n",
    "\n",
    "#### ADD YOUR CODE BELOW ####\n",
    "# Fractions to test\n",
    "fractions = [0.01, 0.04, 0.08, 0.12, 0.16, 0.20, 0.24, 0.28, 0.32]\n",
    "\n",
    "# Results storage\n",
    "disconnect_results = []\n",
    "\n",
    "for f in fractions:\n",
    "    disconnect_count = 0  # Count of trials where the graph got disconnected\n",
    "    for _ in range(100):  # Repeat 100 trials\n",
    "        # Make a copy of the graph\n",
    "        G_copy = G1.copy()\n",
    "        \n",
    "        # Remove a fraction of nodes at random\n",
    "        nodes_to_remove = random.sample(list(G_copy.nodes()), int(f * len(G_copy)))\n",
    "        G_copy.remove_nodes_from(nodes_to_remove)\n",
    "        \n",
    "        # Check number of connected components\n",
    "        if nx.number_connected_components(G_copy) > 1:\n",
    "            disconnect_count += 1\n",
    "    \n",
    "    # Store the fraction and disconnection rate\n",
    "    disconnect_results.append((f, disconnect_count / 100))  # Proportion of trials disconnected\n",
    "\n",
    "# Determine the lowest fraction where disconnection > 50%\n",
    "for f, rate in disconnect_results:\n",
    "    if rate > 0.5:\n",
    "        ans[6] = f\n",
    "        break\n",
    "\n",
    "# Change the line below to store your answer\n",
    "print(\"Disconnection Results:\", disconnect_results)\n",
    "print(\"Answer (Lowest Fraction):\", ans[6])\n",
    "\n",
    "# Change the line below to store your answer\n",
    "print(ans[6])\n"
   ]
  },
  {
   "cell_type": "markdown",
   "metadata": {},
   "source": [
    "## Problem 7 (Robustness, Targeted Attacks)\n",
    "\n",
    "[**2 point**, **Python**] For each fraction $f$ from a predefined list (`fractions = [0.01, 0.04, 0.08, 0.12, 0.16, 0.20, 0.24, 0.28, 0.32]`) do the following: Delete the fraction $f$ of the **highest degrees nodes** from `G1` and calculate the number of connected components in the resulting graph. Which is the smallest fraction of nodes that needs to be removed to disconnect the graph? Save your answer in `ans[7]`. _Note: There is no need to repeat the process 100 times for each fraction, since the fraction of nodes is chosen deterministically, starting with the highest degrees._"
   ]
  },
  {
   "cell_type": "code",
   "execution_count": 9,
   "metadata": {},
   "outputs": [
    {
     "name": "stdout",
     "output_type": "stream",
     "text": [
      "0.04\n"
     ]
    }
   ],
   "source": [
    "### DO NOT CHANGE THE LINES BELOW ###\n",
    "random.seed(42)\n",
    "np.random.seed(42)\n",
    "#### END OF PART THAT SHOULD NOT BE MODIFIED ####\n",
    "\n",
    "#### ADD YOUR CODE BELOW ####\n",
    "# Fractions to test\n",
    "fractions = [0.01, 0.04, 0.08, 0.12, 0.16, 0.20, 0.24, 0.28, 0.32]\n",
    "\n",
    "# Sort nodes by degree in descending order\n",
    "sorted_nodes = sorted(G1.degree, key=lambda x: x[1], reverse=True)  # List of (node, degree)\n",
    "sorted_node_list = [node for node, _ in sorted_nodes]  # Only nodes\n",
    "\n",
    "# Iterate through each fraction\n",
    "for f in fractions:\n",
    "    # Determine the number of nodes to remove\n",
    "    num_nodes_to_remove = int(f * len(G1))\n",
    "    \n",
    "    # Create a copy of the graph\n",
    "    G_copy = G1.copy()\n",
    "    \n",
    "    # Remove top nodes by degree\n",
    "    nodes_to_remove = sorted_node_list[:num_nodes_to_remove]\n",
    "    G_copy.remove_nodes_from(nodes_to_remove)\n",
    "    \n",
    "    # Check the number of connected components\n",
    "    if nx.number_connected_components(G_copy) > 1:\n",
    "        ans[7] = f  # Save the smallest fraction\n",
    "        break\n",
    "\n",
    "# Change the line below to store your answer\n",
    "print(ans[7])\n"
   ]
  },
  {
   "cell_type": "markdown",
   "metadata": {},
   "source": [
    "## Problem 8 (Exponential Random Graph Models)\n",
    "\n",
    "Ensure the that file `graph_2.graphml` containing the second graph is stored in the same directory as this notebook. The file is a GraphML file containing the graph. **Do not change the name of the file**! The code to load the graph as networkx graph is given below. The graph is stored in the variable `G2` and used in Problems 8—12. Do not change the code.\n",
    "\n",
    "This network is a social interaction network. The nodes represent individuals, and the edges represent interactions between them. The nodes have two attributes, _gender_ (categorical, \"male\" or \"female\") and _age_ (scalar value, between 18 and 65).\n",
    "\n",
    "[**2 point**, **R**] Use the `ergm` package in R to fit an Exponential Random Graph Model to the graph `G2` with only an `edges` term. Save the estimated coefficient of the edge term in `ans_8`. _Please note that the variable name is different from the previous problems. It will be exported to Python and stored in `ans[8]` automatically._ "
   ]
  },
  {
   "cell_type": "code",
   "execution_count": 10,
   "metadata": {},
   "outputs": [
    {
     "name": "stdout",
     "output_type": "stream",
     "text": [
      "    edges \n",
      "-0.443003 \n"
     ]
    },
    {
     "data": {
      "text/plain": [
       "Starting maximum pseudolikelihood estimation (MPLE):\n",
       "Obtaining the responsible dyads.\n",
       "Evaluating the predictor and response matrix.\n",
       "Maximizing the pseudolikelihood.\n",
       "Finished MPLE.\n",
       "Evaluating log-likelihood at the estimate. \n"
      ]
     },
     "metadata": {},
     "output_type": "display_data"
    }
   ],
   "source": [
    "%%R\n",
    "### DO NOT CHANGE THE LINES BELOW ###\n",
    "set.seed(42)\n",
    "G2_ <- read_graph('graph_2.graphml', format='graphml')\n",
    "G2 <- asNetwork(G2_)\n",
    "#### END OF PART THAT SHOULD NOT BE MODIFIED ####\n",
    "\n",
    "#### ADD YOUR R CODE BELOW ####\n",
    "# Fit an ERGM with only an edges term\n",
    "model <- ergm(G2 ~ edges)\n",
    "\n",
    "# Extract the coefficient of the edge term\n",
    "ans_8 <- coef(model)['edges']\n",
    "\n",
    "\n",
    "# Change the line below to store your answer\n",
    "print(ans_8)\n"
   ]
  },
  {
   "cell_type": "code",
   "execution_count": 11,
   "metadata": {},
   "outputs": [
    {
     "name": "stdout",
     "output_type": "stream",
     "text": [
      "-0.4430030274270569\n"
     ]
    }
   ],
   "source": [
    "### DO NOT CHANGE THE CODE BELOW ###\n",
    "%R -o ans_8\n",
    "ans[8] = float(ans_8[0])\n",
    "print(ans[8])"
   ]
  },
  {
   "cell_type": "markdown",
   "metadata": {},
   "source": [
    "## Problem 9/10/11/12 (Latent Space Model)\n",
    "\n",
    "[**4 points** (one point each), **R**]. Use the function `ergmm` (**set `seed=42` as argument to the function**) from the `latentnet` R-library to fit a latent space model to the graph `G2` with (1) an edge term, and (2) a two dimensional latent space term with Euclidean distance as distance function. For the latent space term, fit the model with 1, 2, and 3 groups, respectively. Save the BIC of models with 1, 2, and 3 groups in `ans_9`, `ans_10`, and `ans_11`, respectively. Then, use the BIC as selection criterion and store the best model number in `ans_12`, that is, 1, 2 or 3. _Please note that the variable name is different from the previous problems. It will be exported to Python and stored in `ans` automatically._ _Note: Do not worry about convergence or other MCMC warnings for the purpose of this exam._\n"
   ]
  },
  {
   "cell_type": "code",
   "execution_count": 12,
   "metadata": {},
   "outputs": [
    {
     "name": "stdout",
     "output_type": "stream",
     "text": [
      "[1] 1067.25\n",
      "[1] 1054.531\n",
      "[1] 1059.562\n",
      "[1] 2\n"
     ]
    },
    {
     "data": {
      "text/plain": [
       "NOTE: It is not certain whether it is appropriate to use latentnet's BIC to select latent space dimension, whether or not to include actor-specific random effects, and to compare clustered models with the unclustered model.\n"
      ]
     },
     "metadata": {},
     "output_type": "display_data"
    }
   ],
   "source": [
    "%%R\n",
    "### DO NOT CHANGE THE LINES BELOW ###\n",
    "set.seed(42)\n",
    "#### END OF PART THAT SHOULD NOT BE MODIFIED ####\n",
    "\n",
    "#### ADD YOUR R CODE BELOW ####\n",
    "# Fit the latent space model with 1 group\n",
    "model_1_group <- ergmm(G2 ~ edges + euclidean(d=2, G=1), seed=42)\n",
    "ans_9 <- summary(model_1_group)$bic$overall\n",
    "\n",
    "# Fit the latent space model with 2 groups\n",
    "model_2_groups <- ergmm(G2 ~ edges + euclidean(d=2, G=2), seed=42)\n",
    "ans_10 <- summary(model_2_groups)$bic$overall\n",
    "\n",
    "# Fit the latent space model with 3 groups\n",
    "model_3_groups <- ergmm(G2 ~ edges + euclidean(d=2, G=3), seed=42)\n",
    "ans_11 <- summary(model_3_groups)$bic$overall\n",
    "\n",
    "# Determine the best model based on BIC\n",
    "best_model <- which.min(c(ans_9, ans_10, ans_11))\n",
    "ans_12 <- best_model\n",
    "\n",
    "\n",
    "# Change the line below to store your answer\n",
    "\n",
    "print(ans_9)\n",
    "print(ans_10)\n",
    "print(ans_11)\n",
    "print(ans_12)\n"
   ]
  },
  {
   "cell_type": "code",
   "execution_count": 13,
   "metadata": {},
   "outputs": [
    {
     "name": "stdout",
     "output_type": "stream",
     "text": [
      "1067.2498361256921\n",
      "1054.5314053415145\n",
      "1059.5623786090443\n",
      "2.0\n"
     ]
    }
   ],
   "source": [
    "### DO NOT CHANGE THE CODE BELOW ###\n",
    "%R -o ans_9\n",
    "ans[9] = float(ans_9[0])\n",
    "print(ans[9])\n",
    "%R -o ans_10\n",
    "ans[10] = float(ans_10[0])\n",
    "print(ans[10])\n",
    "%R -o ans_11\n",
    "ans[11] = float(ans_11[0])\n",
    "print(ans[11])\n",
    "%R -o ans_12\n",
    "ans[12] = float(ans_12[0])\n",
    "print(ans[12])"
   ]
  },
  {
   "cell_type": "markdown",
   "metadata": {},
   "source": [
    "## Problem 13/14/15/16 (Latent Space Model)\n",
    "\n",
    "[**4 points** (one point each), **R**]. Use the function `ergmm` (**set `seed=42` as argument to the function**) from the `latentnet` R-library to fit a latent space model to the graph `G2` with (1) an edge term (2) a term representing the absolute difference between the ages of the nodes, (3) a term that reflects whether two nodes have the same gender (4) a two dimensional latent space term with Euclidean distance. For the latent space term, fit the model with 1, 2, and 3 groups, respectively. Save the BIC of the model with 1, 2, and 3 groups in `ans_13`, `ans_14`, and `ans_15`, respectively. Then, use the BIC as selection criterion and store the best model number in `ans_16`, that is, store the number 1, 2 or 3. _Please note that the variable name is different from the previous problems. It will be exported to Python and stored in `ans` automatically._\n"
   ]
  },
  {
   "cell_type": "code",
   "execution_count": 14,
   "metadata": {},
   "outputs": [
    {
     "name": "stdout",
     "output_type": "stream",
     "text": [
      "[1] 1042.63\n",
      "[1] 997.9754\n",
      "[1] 1015.274\n",
      "[1] 2\n"
     ]
    },
    {
     "data": {
      "text/plain": [
       "In addition: Warning messages:\n",
       "1: In backoff.check(model, burnin.sample, burnin.control) :\n",
       "  Backing off: too few acceptances. If you see this message several times in a row, use a longer burnin.\n",
       "2: In backoff.check(model, burnin.sample, burnin.control) :\n",
       "  Backing off: too few acceptances. If you see this message several times in a row, use a longer burnin.\n"
      ]
     },
     "metadata": {},
     "output_type": "display_data"
    }
   ],
   "source": [
    "%%R\n",
    "### DO NOT CHANGE THE LINES BELOW ###\n",
    "set.seed(42)\n",
    "#### END OF PART THAT SHOULD NOT BE MODIFIED ####\n",
    "\n",
    "#### ADD YOUR R CODE BELOW ####\n",
    "# Fit the latent space model with 1 group\n",
    "model_1_group <- ergmm(G2 ~ edges + absdiff(\"age\") + nodematch(\"gender\") + euclidean(d=2, G=1), seed=42)\n",
    "ans_13 <- summary(model_1_group)$bic$overall\n",
    "\n",
    "# Fit the latent space model with 2 groups\n",
    "model_2_groups <- ergmm(G2 ~ edges + absdiff(\"age\") + nodematch(\"gender\") + euclidean(d=2, G=2), seed=42)\n",
    "ans_14 <- summary(model_2_groups)$bic$overall\n",
    "\n",
    "# Fit the latent space model with 3 groups\n",
    "model_3_groups <- ergmm(G2 ~ edges + absdiff(\"age\") + nodematch(\"gender\") + euclidean(d=2, G=3), seed=42)\n",
    "ans_15 <- summary(model_3_groups)$bic$overall\n",
    "\n",
    "# Determine the best model based on BIC\n",
    "best_model <- which.min(c(ans_13, ans_14, ans_15))\n",
    "ans_16 <- best_model\n",
    "\n",
    "\n",
    "# Change the line below to store your answer\n",
    "print(ans_13)\n",
    "print(ans_14)\n",
    "print(ans_15)\n",
    "print(ans_16)\n"
   ]
  },
  {
   "cell_type": "code",
   "execution_count": 15,
   "metadata": {},
   "outputs": [
    {
     "name": "stdout",
     "output_type": "stream",
     "text": [
      "1042.6301573317296\n",
      "997.9753531538842\n",
      "1015.2737827876458\n",
      "2.0\n"
     ]
    }
   ],
   "source": [
    "### DO NOT CHANGE THE CODE BELOW ###\n",
    "%R -o ans_13\n",
    "ans[13] = float(ans_13[0])\n",
    "print(ans[13])\n",
    "%R -o ans_14\n",
    "ans[14] = float(ans_14[0])\n",
    "print(ans[14])\n",
    "%R -o ans_15\n",
    "ans[15] = float(ans_15[0])\n",
    "print(ans[15])\n",
    "%R -o ans_16\n",
    "ans[16] = float(ans_16[0])\n",
    "print(ans[16])"
   ]
  },
  {
   "cell_type": "code",
   "execution_count": 16,
   "metadata": {},
   "outputs": [
    {
     "name": "stdout",
     "output_type": "stream",
     "text": [
      "Answer 1: 8.847\n",
      "Answer 2: 0.00013872811578372914\n",
      "Answer 3: 53.198\n",
      "Answer 4: 5.817\n",
      "Answer 5: 2.7540027090181356\n",
      "Answer 6: 0.2\n",
      "Answer 7: 0.04\n",
      "Answer 8: -0.4430030274270569\n",
      "Answer 9: 1067.2498361256921\n",
      "Answer 10: 1054.5314053415145\n",
      "Answer 11: 1059.5623786090443\n",
      "Answer 12: 2.0\n",
      "Answer 13: 1042.6301573317296\n",
      "Answer 14: 997.9753531538842\n",
      "Answer 15: 1015.2737827876458\n",
      "Answer 16: 2.0\n"
     ]
    }
   ],
   "source": [
    "for a in ans:\n",
    "    print(f\"Answer {a}: {ans[a]}\")"
   ]
  },
  {
   "cell_type": "markdown",
   "metadata": {},
   "source": [
    "**Ensure your notebook runs by pressing \"Run All\" before submitting.**\n",
    "\n",
    "# END OF ASSIGNMENT"
   ]
  },
  {
   "cell_type": "code",
   "execution_count": 17,
   "metadata": {},
   "outputs": [],
   "source": [
    "#### DO NOT CHANGE ANYTHING BELOW THIS LINE ####\n",
    "\n",
    "# Save the dictionary as JSON\n",
    "with open('solutions.json', 'w') as file:\n",
    "  json.dump(ans, file, indent=2)"
   ]
  },
  {
   "cell_type": "code",
   "execution_count": null,
   "metadata": {},
   "outputs": [],
   "source": []
  }
 ],
 "metadata": {
  "kernelspec": {
   "display_name": "ST5225",
   "language": "python",
   "name": "python3"
  },
  "language_info": {
   "codemirror_mode": {
    "name": "ipython",
    "version": 3
   },
   "file_extension": ".py",
   "mimetype": "text/x-python",
   "name": "python",
   "nbconvert_exporter": "python",
   "pygments_lexer": "ipython3",
   "version": "3.12.2"
  }
 },
 "nbformat": 4,
 "nbformat_minor": 2
}
