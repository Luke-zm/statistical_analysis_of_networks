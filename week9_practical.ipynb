{
 "cells": [
  {
   "cell_type": "markdown",
   "metadata": {},
   "source": [
    "# Week 9 practical"
   ]
  },
  {
   "cell_type": "code",
   "execution_count": 9,
   "metadata": {},
   "outputs": [],
   "source": [
    "%reload_ext rpy2.ipython"
   ]
  },
  {
   "cell_type": "code",
   "execution_count": 15,
   "metadata": {},
   "outputs": [
    {
     "name": "stdout",
     "output_type": "stream",
     "text": [
      "The rpy2.ipython extension is already loaded. To reload it, use:\n",
      "  %reload_ext rpy2.ipython\n"
     ]
    }
   ],
   "source": [
    "%load_ext rpy2.ipython"
   ]
  },
  {
   "cell_type": "code",
   "execution_count": 16,
   "metadata": {},
   "outputs": [
    {
     "name": "stdout",
     "output_type": "stream",
     "text": [
      "IGRAPH 4b458a1 UNW- 34 78 -- Zachary's karate club network\n",
      "+ attr: name (g/c), Citation (g/c), Author (g/c), Faction (v/n), name\n",
      "| (v/c), label (v/c), color (v/n), weight (e/n)\n",
      "+ edges from 4b458a1 (vertex names):\n",
      " [1] Mr Hi  --Actor 2  Mr Hi  --Actor 3  Mr Hi  --Actor 4  Mr Hi  --Actor 5 \n",
      " [5] Mr Hi  --Actor 6  Mr Hi  --Actor 7  Mr Hi  --Actor 8  Mr Hi  --Actor 9 \n",
      " [9] Mr Hi  --Actor 11 Mr Hi  --Actor 12 Mr Hi  --Actor 13 Mr Hi  --Actor 14\n",
      "[13] Mr Hi  --Actor 18 Mr Hi  --Actor 20 Mr Hi  --Actor 22 Mr Hi  --Actor 32\n",
      "[17] Actor 2--Actor 3  Actor 2--Actor 4  Actor 2--Actor 8  Actor 2--Actor 14\n",
      "[21] Actor 2--Actor 18 Actor 2--Actor 20 Actor 2--Actor 22 Actor 2--Actor 31\n",
      "[25] Actor 3--Actor 4  Actor 3--Actor 8  Actor 3--Actor 9  Actor 3--Actor 10\n",
      "+ ... omitted several edges\n"
     ]
    },
    {
     "data": {
      "text/plain": [
       "This graph was created by an old(er) igraph version.\n",
       "  Call upgrade_graph() on it to use with the current igraph version\n",
       "  For now we convert it on the fly...\n"
      ]
     },
     "metadata": {},
     "output_type": "display_data"
    }
   ],
   "source": [
    "%%R\n",
    "library(igraphdata)\n",
    "data(\"karate\")\n",
    "print(karate)"
   ]
  },
  {
   "cell_type": "code",
   "execution_count": 17,
   "metadata": {},
   "outputs": [
    {
     "name": "stdout",
     "output_type": "stream",
     "text": [
      " Network attributes:\n",
      "  vertices = 34 \n",
      "  directed = FALSE \n",
      "  hyper = FALSE \n",
      "  loops = FALSE \n",
      "  multiple = FALSE \n",
      " "
     ]
    },
    {
     "name": "stdout",
     "output_type": "stream",
     "text": [
      " bipartite = FALSE \n",
      "  name = Zachary's karate club network \n",
      "  Citation = Wayne W. Zachary. An Information Flow Model for Conflict and Fission in Small Groups. Journal of Anthropological Research Vol. 33, No. 4 452-473 \n",
      "  Author = Wayne W. Zachary \n",
      "  total edges= 78 \n",
      "    missing edges= 0 \n",
      "    non-missing edges= 78 \n",
      "\n",
      " Vertex attribute names: \n",
      "    color Faction label vertex.names \n",
      "\n",
      " Edge attribute names: \n",
      "    weight \n"
     ]
    }
   ],
   "source": [
    "%%R\n",
    "library(intergraph)\n",
    "karate <- asNetwork(karate)\n",
    "print(karate)"
   ]
  },
  {
   "cell_type": "code",
   "execution_count": 18,
   "metadata": {},
   "outputs": [
    {
     "data": {
      "text/plain": [
       "Starting maximum pseudolikelihood estimation (MPLE):\n",
       "Obtaining the responsible dyads.\n",
       "Evaluating the predictor and response matrix.\n",
       "Maximizing the pseudolikelihood.\n",
       "Finished MPLE.\n",
       "Evaluating log-likelihood at the estimate. \n"
      ]
     },
     "metadata": {},
     "output_type": "display_data"
    }
   ],
   "source": [
    "%%R\n",
    "library(ergm)\n",
    "model <- ergm(karate ~ edges)\n"
   ]
  },
  {
   "cell_type": "code",
   "execution_count": 19,
   "metadata": {},
   "outputs": [
    {
     "name": "stdout",
     "output_type": "stream",
     "text": [
      "Call:\n",
      "ergm(formula = karate ~ edges)\n",
      "\n",
      "Maximum Likelihood Results:\n",
      "\n",
      "      Estimate Std. Error MCMC % z value Pr(>|z|)    \n",
      "edges"
     ]
    },
    {
     "name": "stdout",
     "output_type": "stream",
     "text": [
      "   -1.823      0.122      0  -14.94   <1e-04 ***\n",
      "---\n",
      "Signif. codes:  0 ‘***’ 0.001 ‘**’ 0.01 ‘*’ 0.05 ‘.’ 0.1 ‘ ’ 1\n",
      "\n",
      "     Null Deviance: 777.7  on 561  degrees of freedom\n",
      " Residual Deviance: 452.4  on 560  degrees of freedom\n",
      " \n",
      "AIC: 454.4  BIC: 458.7  (Smaller is better. MC Std. Err. = 0)\n"
     ]
    }
   ],
   "source": [
    "%%R\n",
    "summary(model)"
   ]
  },
  {
   "cell_type": "code",
   "execution_count": 21,
   "metadata": {},
   "outputs": [
    {
     "data": {
      "text/plain": [
       "Loading required package: statnet.common\n",
       "\n",
       "Attaching package: ‘statnet.common’\n",
       "\n",
       "The following objects are masked from ‘package:base’:\n",
       "\n",
       "    attr, order\n",
       "\n",
       "sna: Tools for Social Network Analysis\n",
       "Version 2.8 created on 2024-09-07.\n",
       "copyright (c) 2005, Carter T. Butts, University of California-Irvine\n",
       " For citation information, type citation(\"sna\").\n",
       " Type help(package=\"sna\") to get started.\n",
       "\n"
      ]
     },
     "metadata": {},
     "output_type": "display_data"
    }
   ],
   "source": [
    "%%R\n",
    "library(sna)"
   ]
  },
  {
   "cell_type": "code",
   "execution_count": 22,
   "metadata": {},
   "outputs": [
    {
     "name": "stdout",
     "output_type": "stream",
     "text": [
      "[1] 0.1390374\n"
     ]
    }
   ],
   "source": [
    "%%R\n",
    "edge_density <- gden(karate)\n",
    "print(edge_density)"
   ]
  },
  {
   "cell_type": "code",
   "execution_count": 23,
   "metadata": {},
   "outputs": [
    {
     "name": "stdout",
     "output_type": "stream",
     "text": [
      "Call:\n",
      "ergm(formula = karate ~ edges + nodematch(\"Faction\"))\n",
      "\n",
      "Maximum Likelihood Results:\n",
      "\n",
      "                  Estimate Std. Error MCMC % z value Pr(>|z|)    \n",
      "edges              -3.3250     0.3219      0  -10.33   <1e-04 ***\n",
      "nodematch.Faction   2.2215     0.3510      0    6.33   <1e-04 ***\n",
      "---\n",
      "Signif. codes:  0 ‘***’ 0.001 ‘**’ 0.01 ‘*’ 0.05 ‘.’ 0.1 ‘ ’ 1\n",
      "\n",
      "     Null Deviance: 777.7  on 561  degrees of freedom\n",
      " Residual Deviance: 393.3  on 559  degrees of freedom\n",
      " \n",
      "AIC: 397.3  BIC: 406  (Smaller is better. MC Std. Err. = 0)\n"
     ]
    },
    {
     "data": {
      "text/plain": [
       "Starting maximum pseudolikelihood estimation (MPLE):\n",
       "Obtaining the responsible dyads.\n",
       "Evaluating the predictor and response matrix.\n",
       "Maximizing the pseudolikelihood.\n",
       "Finished MPLE.\n",
       "Evaluating log-likelihood at the estimate. \n"
      ]
     },
     "metadata": {},
     "output_type": "display_data"
    }
   ],
   "source": [
    "%%R\n",
    "model <- ergm(karate ~ edges + nodematch(\"Faction\"))\n",
    "summary(model)"
   ]
  },
  {
   "cell_type": "code",
   "execution_count": null,
   "metadata": {},
   "outputs": [],
   "source": []
  },
  {
   "cell_type": "code",
   "execution_count": null,
   "metadata": {},
   "outputs": [],
   "source": []
  }
 ],
 "metadata": {
  "kernelspec": {
   "display_name": "ST5225",
   "language": "python",
   "name": "python3"
  },
  "language_info": {
   "codemirror_mode": {
    "name": "ipython",
    "version": 3
   },
   "file_extension": ".py",
   "mimetype": "text/x-python",
   "name": "python",
   "nbconvert_exporter": "python",
   "pygments_lexer": "ipython3",
   "version": "3.12.2"
  }
 },
 "nbformat": 4,
 "nbformat_minor": 2
}
